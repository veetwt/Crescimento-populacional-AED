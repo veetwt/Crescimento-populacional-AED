{
  "nbformat": 4,
  "nbformat_minor": 0,
  "metadata": {
    "colab": {
      "provenance": [],
      "authorship_tag": "ABX9TyNIlDnHZFTHqfKzsWsuNERo",
      "include_colab_link": true
    },
    "kernelspec": {
      "name": "python3",
      "display_name": "Python 3"
    },
    "language_info": {
      "name": "python"
    }
  },
  "cells": [
    {
      "cell_type": "markdown",
      "metadata": {
        "id": "view-in-github",
        "colab_type": "text"
      },
      "source": [
        "<a href=\"https://colab.research.google.com/github/veetwt/GrowthRate-by-cities/blob/main/Crescimento_Populacional.ipynb\" target=\"_parent\"><img src=\"https://colab.research.google.com/assets/colab-badge.svg\" alt=\"Open In Colab\"/></a>"
      ]
    },
    {
      "cell_type": "markdown",
      "source": [
        "\n",
        "\n",
        "---\n",
        "\n",
        "\n",
        "# **ANÁLISE EXPLORATÓRIA DE DADOS: Extraindo insights das taxas de crescimento populacional por cidades**\n",
        "\n",
        "\n",
        "\n",
        "---\n",
        "\n",
        "\n",
        "\n"
      ],
      "metadata": {
        "id": "nQNq6C7Ua3BL"
      }
    },
    {
      "cell_type": "markdown",
      "source": [
        "Sobre o projeto: A motivação da análise é entender as tendências de crescimento populacional observadas entre os anos de 2023 e 2024, bem como identificar padrões e conclusões para o negócio.\n",
        "\n",
        "O projeto foi desenvolvido por seções, com o objetivo de facilitar o entendimento das etapas através da exploração dos dados e data visualization. Em cada uma das seções, o desenvolvimento será descrito de maneira clara para que o processo e os resultados possam ser compreendidos."
      ],
      "metadata": {
        "id": "Zg3tdPDFbE2G"
      }
    },
    {
      "cell_type": "markdown",
      "source": [
        "1. **IMPORTAÇÃO DE LIBS**"
      ],
      "metadata": {
        "id": "RjEuOeWqGP1L"
      }
    },
    {
      "cell_type": "code",
      "execution_count": 1,
      "metadata": {
        "id": "wIZ9LjxnEyrn"
      },
      "outputs": [],
      "source": [
        "import pandas as pd\n",
        "import numpy as np\n",
        "import matplotlib.pyplot as plt\n",
        "import seaborn as sns\n",
        "from google.colab import files\n",
        "from matplotlib.ticker import FuncFormatter"
      ]
    },
    {
      "cell_type": "markdown",
      "source": [
        "2. **IMPORTAÇÃO DATASET**"
      ],
      "metadata": {
        "id": "JYCTC0HuGWrd"
      }
    },
    {
      "cell_type": "code",
      "source": [
        "uploaded = files.upload()"
      ],
      "metadata": {
        "colab": {
          "base_uri": "https://localhost:8080/",
          "height": 73
        },
        "id": "D4pNK9o-E14L",
        "outputId": "25a55fae-8175-4ecb-bf4f-7abae9f591cc"
      },
      "execution_count": 3,
      "outputs": [
        {
          "output_type": "display_data",
          "data": {
            "text/plain": [
              "<IPython.core.display.HTML object>"
            ],
            "text/html": [
              "\n",
              "     <input type=\"file\" id=\"files-d79d43ab-99a6-4c43-ab6b-7a599d5aad5c\" name=\"files[]\" multiple disabled\n",
              "        style=\"border:none\" />\n",
              "     <output id=\"result-d79d43ab-99a6-4c43-ab6b-7a599d5aad5c\">\n",
              "      Upload widget is only available when the cell has been executed in the\n",
              "      current browser session. Please rerun this cell to enable.\n",
              "      </output>\n",
              "      <script>// Copyright 2017 Google LLC\n",
              "//\n",
              "// Licensed under the Apache License, Version 2.0 (the \"License\");\n",
              "// you may not use this file except in compliance with the License.\n",
              "// You may obtain a copy of the License at\n",
              "//\n",
              "//      http://www.apache.org/licenses/LICENSE-2.0\n",
              "//\n",
              "// Unless required by applicable law or agreed to in writing, software\n",
              "// distributed under the License is distributed on an \"AS IS\" BASIS,\n",
              "// WITHOUT WARRANTIES OR CONDITIONS OF ANY KIND, either express or implied.\n",
              "// See the License for the specific language governing permissions and\n",
              "// limitations under the License.\n",
              "\n",
              "/**\n",
              " * @fileoverview Helpers for google.colab Python module.\n",
              " */\n",
              "(function(scope) {\n",
              "function span(text, styleAttributes = {}) {\n",
              "  const element = document.createElement('span');\n",
              "  element.textContent = text;\n",
              "  for (const key of Object.keys(styleAttributes)) {\n",
              "    element.style[key] = styleAttributes[key];\n",
              "  }\n",
              "  return element;\n",
              "}\n",
              "\n",
              "// Max number of bytes which will be uploaded at a time.\n",
              "const MAX_PAYLOAD_SIZE = 100 * 1024;\n",
              "\n",
              "function _uploadFiles(inputId, outputId) {\n",
              "  const steps = uploadFilesStep(inputId, outputId);\n",
              "  const outputElement = document.getElementById(outputId);\n",
              "  // Cache steps on the outputElement to make it available for the next call\n",
              "  // to uploadFilesContinue from Python.\n",
              "  outputElement.steps = steps;\n",
              "\n",
              "  return _uploadFilesContinue(outputId);\n",
              "}\n",
              "\n",
              "// This is roughly an async generator (not supported in the browser yet),\n",
              "// where there are multiple asynchronous steps and the Python side is going\n",
              "// to poll for completion of each step.\n",
              "// This uses a Promise to block the python side on completion of each step,\n",
              "// then passes the result of the previous step as the input to the next step.\n",
              "function _uploadFilesContinue(outputId) {\n",
              "  const outputElement = document.getElementById(outputId);\n",
              "  const steps = outputElement.steps;\n",
              "\n",
              "  const next = steps.next(outputElement.lastPromiseValue);\n",
              "  return Promise.resolve(next.value.promise).then((value) => {\n",
              "    // Cache the last promise value to make it available to the next\n",
              "    // step of the generator.\n",
              "    outputElement.lastPromiseValue = value;\n",
              "    return next.value.response;\n",
              "  });\n",
              "}\n",
              "\n",
              "/**\n",
              " * Generator function which is called between each async step of the upload\n",
              " * process.\n",
              " * @param {string} inputId Element ID of the input file picker element.\n",
              " * @param {string} outputId Element ID of the output display.\n",
              " * @return {!Iterable<!Object>} Iterable of next steps.\n",
              " */\n",
              "function* uploadFilesStep(inputId, outputId) {\n",
              "  const inputElement = document.getElementById(inputId);\n",
              "  inputElement.disabled = false;\n",
              "\n",
              "  const outputElement = document.getElementById(outputId);\n",
              "  outputElement.innerHTML = '';\n",
              "\n",
              "  const pickedPromise = new Promise((resolve) => {\n",
              "    inputElement.addEventListener('change', (e) => {\n",
              "      resolve(e.target.files);\n",
              "    });\n",
              "  });\n",
              "\n",
              "  const cancel = document.createElement('button');\n",
              "  inputElement.parentElement.appendChild(cancel);\n",
              "  cancel.textContent = 'Cancel upload';\n",
              "  const cancelPromise = new Promise((resolve) => {\n",
              "    cancel.onclick = () => {\n",
              "      resolve(null);\n",
              "    };\n",
              "  });\n",
              "\n",
              "  // Wait for the user to pick the files.\n",
              "  const files = yield {\n",
              "    promise: Promise.race([pickedPromise, cancelPromise]),\n",
              "    response: {\n",
              "      action: 'starting',\n",
              "    }\n",
              "  };\n",
              "\n",
              "  cancel.remove();\n",
              "\n",
              "  // Disable the input element since further picks are not allowed.\n",
              "  inputElement.disabled = true;\n",
              "\n",
              "  if (!files) {\n",
              "    return {\n",
              "      response: {\n",
              "        action: 'complete',\n",
              "      }\n",
              "    };\n",
              "  }\n",
              "\n",
              "  for (const file of files) {\n",
              "    const li = document.createElement('li');\n",
              "    li.append(span(file.name, {fontWeight: 'bold'}));\n",
              "    li.append(span(\n",
              "        `(${file.type || 'n/a'}) - ${file.size} bytes, ` +\n",
              "        `last modified: ${\n",
              "            file.lastModifiedDate ? file.lastModifiedDate.toLocaleDateString() :\n",
              "                                    'n/a'} - `));\n",
              "    const percent = span('0% done');\n",
              "    li.appendChild(percent);\n",
              "\n",
              "    outputElement.appendChild(li);\n",
              "\n",
              "    const fileDataPromise = new Promise((resolve) => {\n",
              "      const reader = new FileReader();\n",
              "      reader.onload = (e) => {\n",
              "        resolve(e.target.result);\n",
              "      };\n",
              "      reader.readAsArrayBuffer(file);\n",
              "    });\n",
              "    // Wait for the data to be ready.\n",
              "    let fileData = yield {\n",
              "      promise: fileDataPromise,\n",
              "      response: {\n",
              "        action: 'continue',\n",
              "      }\n",
              "    };\n",
              "\n",
              "    // Use a chunked sending to avoid message size limits. See b/62115660.\n",
              "    let position = 0;\n",
              "    do {\n",
              "      const length = Math.min(fileData.byteLength - position, MAX_PAYLOAD_SIZE);\n",
              "      const chunk = new Uint8Array(fileData, position, length);\n",
              "      position += length;\n",
              "\n",
              "      const base64 = btoa(String.fromCharCode.apply(null, chunk));\n",
              "      yield {\n",
              "        response: {\n",
              "          action: 'append',\n",
              "          file: file.name,\n",
              "          data: base64,\n",
              "        },\n",
              "      };\n",
              "\n",
              "      let percentDone = fileData.byteLength === 0 ?\n",
              "          100 :\n",
              "          Math.round((position / fileData.byteLength) * 100);\n",
              "      percent.textContent = `${percentDone}% done`;\n",
              "\n",
              "    } while (position < fileData.byteLength);\n",
              "  }\n",
              "\n",
              "  // All done.\n",
              "  yield {\n",
              "    response: {\n",
              "      action: 'complete',\n",
              "    }\n",
              "  };\n",
              "}\n",
              "\n",
              "scope.google = scope.google || {};\n",
              "scope.google.colab = scope.google.colab || {};\n",
              "scope.google.colab._files = {\n",
              "  _uploadFiles,\n",
              "  _uploadFilesContinue,\n",
              "};\n",
              "})(self);\n",
              "</script> "
            ]
          },
          "metadata": {}
        },
        {
          "output_type": "stream",
          "name": "stdout",
          "text": [
            "Saving World population growth rate by cities 2024.csv to World population growth rate by cities 2024.csv\n"
          ]
        }
      ]
    },
    {
      "cell_type": "code",
      "source": [
        "df = pd.read_csv(\"World population growth rate by cities 2024.csv\")"
      ],
      "metadata": {
        "id": "hMgLpO0BE6SV"
      },
      "execution_count": 4,
      "outputs": []
    },
    {
      "cell_type": "markdown",
      "source": [
        "3. **EXPLORAÇÃO DATASET**"
      ],
      "metadata": {
        "id": "UvGjpoBsGfOc"
      }
    },
    {
      "cell_type": "code",
      "source": [
        "#Linhas e colunas\n",
        "df.shape"
      ],
      "metadata": {
        "colab": {
          "base_uri": "https://localhost:8080/"
        },
        "id": "4UX9U0tkE6VC",
        "outputId": "8c870557-4824-4b2b-ede1-563f379ae772"
      },
      "execution_count": 5,
      "outputs": [
        {
          "output_type": "execute_result",
          "data": {
            "text/plain": [
              "(801, 6)"
            ]
          },
          "metadata": {},
          "execution_count": 5
        }
      ]
    },
    {
      "cell_type": "code",
      "source": [
        "#Visualização padrão\n",
        "df.head()"
      ],
      "metadata": {
        "colab": {
          "base_uri": "https://localhost:8080/",
          "height": 206
        },
        "id": "N1i45zpAFAeK",
        "outputId": "7ffd82e2-b7cb-49a7-c6f0-94bc2439544e"
      },
      "execution_count": 6,
      "outputs": [
        {
          "output_type": "execute_result",
          "data": {
            "text/plain": [
              "        City     Country      Continent  Population (2024)  Population (2023)  \\\n",
              "0      Tokyo       Japan           Asia           37115035           37194105   \n",
              "1      Delhi       India           Asia           33807403           32941309   \n",
              "2   Shanghai       China           Asia           29867918           29210808   \n",
              "3      Dhaka  Bangladesh           Asia           23935652           23209616   \n",
              "4  Sao Paulo      Brazil  South America           22806704           22619736   \n",
              "\n",
              "   Growth Rate  \n",
              "0      -0.0021  \n",
              "1       0.0263  \n",
              "2       0.0225  \n",
              "3       0.0313  \n",
              "4       0.0083  "
            ],
            "text/html": [
              "\n",
              "  <div id=\"df-099af1b5-5b1c-4be3-9124-54d662fbb5c7\" class=\"colab-df-container\">\n",
              "    <div>\n",
              "<style scoped>\n",
              "    .dataframe tbody tr th:only-of-type {\n",
              "        vertical-align: middle;\n",
              "    }\n",
              "\n",
              "    .dataframe tbody tr th {\n",
              "        vertical-align: top;\n",
              "    }\n",
              "\n",
              "    .dataframe thead th {\n",
              "        text-align: right;\n",
              "    }\n",
              "</style>\n",
              "<table border=\"1\" class=\"dataframe\">\n",
              "  <thead>\n",
              "    <tr style=\"text-align: right;\">\n",
              "      <th></th>\n",
              "      <th>City</th>\n",
              "      <th>Country</th>\n",
              "      <th>Continent</th>\n",
              "      <th>Population (2024)</th>\n",
              "      <th>Population (2023)</th>\n",
              "      <th>Growth Rate</th>\n",
              "    </tr>\n",
              "  </thead>\n",
              "  <tbody>\n",
              "    <tr>\n",
              "      <th>0</th>\n",
              "      <td>Tokyo</td>\n",
              "      <td>Japan</td>\n",
              "      <td>Asia</td>\n",
              "      <td>37115035</td>\n",
              "      <td>37194105</td>\n",
              "      <td>-0.0021</td>\n",
              "    </tr>\n",
              "    <tr>\n",
              "      <th>1</th>\n",
              "      <td>Delhi</td>\n",
              "      <td>India</td>\n",
              "      <td>Asia</td>\n",
              "      <td>33807403</td>\n",
              "      <td>32941309</td>\n",
              "      <td>0.0263</td>\n",
              "    </tr>\n",
              "    <tr>\n",
              "      <th>2</th>\n",
              "      <td>Shanghai</td>\n",
              "      <td>China</td>\n",
              "      <td>Asia</td>\n",
              "      <td>29867918</td>\n",
              "      <td>29210808</td>\n",
              "      <td>0.0225</td>\n",
              "    </tr>\n",
              "    <tr>\n",
              "      <th>3</th>\n",
              "      <td>Dhaka</td>\n",
              "      <td>Bangladesh</td>\n",
              "      <td>Asia</td>\n",
              "      <td>23935652</td>\n",
              "      <td>23209616</td>\n",
              "      <td>0.0313</td>\n",
              "    </tr>\n",
              "    <tr>\n",
              "      <th>4</th>\n",
              "      <td>Sao Paulo</td>\n",
              "      <td>Brazil</td>\n",
              "      <td>South America</td>\n",
              "      <td>22806704</td>\n",
              "      <td>22619736</td>\n",
              "      <td>0.0083</td>\n",
              "    </tr>\n",
              "  </tbody>\n",
              "</table>\n",
              "</div>\n",
              "    <div class=\"colab-df-buttons\">\n",
              "\n",
              "  <div class=\"colab-df-container\">\n",
              "    <button class=\"colab-df-convert\" onclick=\"convertToInteractive('df-099af1b5-5b1c-4be3-9124-54d662fbb5c7')\"\n",
              "            title=\"Convert this dataframe to an interactive table.\"\n",
              "            style=\"display:none;\">\n",
              "\n",
              "  <svg xmlns=\"http://www.w3.org/2000/svg\" height=\"24px\" viewBox=\"0 -960 960 960\">\n",
              "    <path d=\"M120-120v-720h720v720H120Zm60-500h600v-160H180v160Zm220 220h160v-160H400v160Zm0 220h160v-160H400v160ZM180-400h160v-160H180v160Zm440 0h160v-160H620v160ZM180-180h160v-160H180v160Zm440 0h160v-160H620v160Z\"/>\n",
              "  </svg>\n",
              "    </button>\n",
              "\n",
              "  <style>\n",
              "    .colab-df-container {\n",
              "      display:flex;\n",
              "      gap: 12px;\n",
              "    }\n",
              "\n",
              "    .colab-df-convert {\n",
              "      background-color: #E8F0FE;\n",
              "      border: none;\n",
              "      border-radius: 50%;\n",
              "      cursor: pointer;\n",
              "      display: none;\n",
              "      fill: #1967D2;\n",
              "      height: 32px;\n",
              "      padding: 0 0 0 0;\n",
              "      width: 32px;\n",
              "    }\n",
              "\n",
              "    .colab-df-convert:hover {\n",
              "      background-color: #E2EBFA;\n",
              "      box-shadow: 0px 1px 2px rgba(60, 64, 67, 0.3), 0px 1px 3px 1px rgba(60, 64, 67, 0.15);\n",
              "      fill: #174EA6;\n",
              "    }\n",
              "\n",
              "    .colab-df-buttons div {\n",
              "      margin-bottom: 4px;\n",
              "    }\n",
              "\n",
              "    [theme=dark] .colab-df-convert {\n",
              "      background-color: #3B4455;\n",
              "      fill: #D2E3FC;\n",
              "    }\n",
              "\n",
              "    [theme=dark] .colab-df-convert:hover {\n",
              "      background-color: #434B5C;\n",
              "      box-shadow: 0px 1px 3px 1px rgba(0, 0, 0, 0.15);\n",
              "      filter: drop-shadow(0px 1px 2px rgba(0, 0, 0, 0.3));\n",
              "      fill: #FFFFFF;\n",
              "    }\n",
              "  </style>\n",
              "\n",
              "    <script>\n",
              "      const buttonEl =\n",
              "        document.querySelector('#df-099af1b5-5b1c-4be3-9124-54d662fbb5c7 button.colab-df-convert');\n",
              "      buttonEl.style.display =\n",
              "        google.colab.kernel.accessAllowed ? 'block' : 'none';\n",
              "\n",
              "      async function convertToInteractive(key) {\n",
              "        const element = document.querySelector('#df-099af1b5-5b1c-4be3-9124-54d662fbb5c7');\n",
              "        const dataTable =\n",
              "          await google.colab.kernel.invokeFunction('convertToInteractive',\n",
              "                                                    [key], {});\n",
              "        if (!dataTable) return;\n",
              "\n",
              "        const docLinkHtml = 'Like what you see? Visit the ' +\n",
              "          '<a target=\"_blank\" href=https://colab.research.google.com/notebooks/data_table.ipynb>data table notebook</a>'\n",
              "          + ' to learn more about interactive tables.';\n",
              "        element.innerHTML = '';\n",
              "        dataTable['output_type'] = 'display_data';\n",
              "        await google.colab.output.renderOutput(dataTable, element);\n",
              "        const docLink = document.createElement('div');\n",
              "        docLink.innerHTML = docLinkHtml;\n",
              "        element.appendChild(docLink);\n",
              "      }\n",
              "    </script>\n",
              "  </div>\n",
              "\n",
              "\n",
              "<div id=\"df-0e6d032b-3295-41d3-9a96-1a3a891b113e\">\n",
              "  <button class=\"colab-df-quickchart\" onclick=\"quickchart('df-0e6d032b-3295-41d3-9a96-1a3a891b113e')\"\n",
              "            title=\"Suggest charts\"\n",
              "            style=\"display:none;\">\n",
              "\n",
              "<svg xmlns=\"http://www.w3.org/2000/svg\" height=\"24px\"viewBox=\"0 0 24 24\"\n",
              "     width=\"24px\">\n",
              "    <g>\n",
              "        <path d=\"M19 3H5c-1.1 0-2 .9-2 2v14c0 1.1.9 2 2 2h14c1.1 0 2-.9 2-2V5c0-1.1-.9-2-2-2zM9 17H7v-7h2v7zm4 0h-2V7h2v10zm4 0h-2v-4h2v4z\"/>\n",
              "    </g>\n",
              "</svg>\n",
              "  </button>\n",
              "\n",
              "<style>\n",
              "  .colab-df-quickchart {\n",
              "      --bg-color: #E8F0FE;\n",
              "      --fill-color: #1967D2;\n",
              "      --hover-bg-color: #E2EBFA;\n",
              "      --hover-fill-color: #174EA6;\n",
              "      --disabled-fill-color: #AAA;\n",
              "      --disabled-bg-color: #DDD;\n",
              "  }\n",
              "\n",
              "  [theme=dark] .colab-df-quickchart {\n",
              "      --bg-color: #3B4455;\n",
              "      --fill-color: #D2E3FC;\n",
              "      --hover-bg-color: #434B5C;\n",
              "      --hover-fill-color: #FFFFFF;\n",
              "      --disabled-bg-color: #3B4455;\n",
              "      --disabled-fill-color: #666;\n",
              "  }\n",
              "\n",
              "  .colab-df-quickchart {\n",
              "    background-color: var(--bg-color);\n",
              "    border: none;\n",
              "    border-radius: 50%;\n",
              "    cursor: pointer;\n",
              "    display: none;\n",
              "    fill: var(--fill-color);\n",
              "    height: 32px;\n",
              "    padding: 0;\n",
              "    width: 32px;\n",
              "  }\n",
              "\n",
              "  .colab-df-quickchart:hover {\n",
              "    background-color: var(--hover-bg-color);\n",
              "    box-shadow: 0 1px 2px rgba(60, 64, 67, 0.3), 0 1px 3px 1px rgba(60, 64, 67, 0.15);\n",
              "    fill: var(--button-hover-fill-color);\n",
              "  }\n",
              "\n",
              "  .colab-df-quickchart-complete:disabled,\n",
              "  .colab-df-quickchart-complete:disabled:hover {\n",
              "    background-color: var(--disabled-bg-color);\n",
              "    fill: var(--disabled-fill-color);\n",
              "    box-shadow: none;\n",
              "  }\n",
              "\n",
              "  .colab-df-spinner {\n",
              "    border: 2px solid var(--fill-color);\n",
              "    border-color: transparent;\n",
              "    border-bottom-color: var(--fill-color);\n",
              "    animation:\n",
              "      spin 1s steps(1) infinite;\n",
              "  }\n",
              "\n",
              "  @keyframes spin {\n",
              "    0% {\n",
              "      border-color: transparent;\n",
              "      border-bottom-color: var(--fill-color);\n",
              "      border-left-color: var(--fill-color);\n",
              "    }\n",
              "    20% {\n",
              "      border-color: transparent;\n",
              "      border-left-color: var(--fill-color);\n",
              "      border-top-color: var(--fill-color);\n",
              "    }\n",
              "    30% {\n",
              "      border-color: transparent;\n",
              "      border-left-color: var(--fill-color);\n",
              "      border-top-color: var(--fill-color);\n",
              "      border-right-color: var(--fill-color);\n",
              "    }\n",
              "    40% {\n",
              "      border-color: transparent;\n",
              "      border-right-color: var(--fill-color);\n",
              "      border-top-color: var(--fill-color);\n",
              "    }\n",
              "    60% {\n",
              "      border-color: transparent;\n",
              "      border-right-color: var(--fill-color);\n",
              "    }\n",
              "    80% {\n",
              "      border-color: transparent;\n",
              "      border-right-color: var(--fill-color);\n",
              "      border-bottom-color: var(--fill-color);\n",
              "    }\n",
              "    90% {\n",
              "      border-color: transparent;\n",
              "      border-bottom-color: var(--fill-color);\n",
              "    }\n",
              "  }\n",
              "</style>\n",
              "\n",
              "  <script>\n",
              "    async function quickchart(key) {\n",
              "      const quickchartButtonEl =\n",
              "        document.querySelector('#' + key + ' button');\n",
              "      quickchartButtonEl.disabled = true;  // To prevent multiple clicks.\n",
              "      quickchartButtonEl.classList.add('colab-df-spinner');\n",
              "      try {\n",
              "        const charts = await google.colab.kernel.invokeFunction(\n",
              "            'suggestCharts', [key], {});\n",
              "      } catch (error) {\n",
              "        console.error('Error during call to suggestCharts:', error);\n",
              "      }\n",
              "      quickchartButtonEl.classList.remove('colab-df-spinner');\n",
              "      quickchartButtonEl.classList.add('colab-df-quickchart-complete');\n",
              "    }\n",
              "    (() => {\n",
              "      let quickchartButtonEl =\n",
              "        document.querySelector('#df-0e6d032b-3295-41d3-9a96-1a3a891b113e button');\n",
              "      quickchartButtonEl.style.display =\n",
              "        google.colab.kernel.accessAllowed ? 'block' : 'none';\n",
              "    })();\n",
              "  </script>\n",
              "</div>\n",
              "\n",
              "    </div>\n",
              "  </div>\n"
            ],
            "application/vnd.google.colaboratory.intrinsic+json": {
              "type": "dataframe",
              "variable_name": "df",
              "summary": "{\n  \"name\": \"df\",\n  \"rows\": 801,\n  \"fields\": [\n    {\n      \"column\": \"City\",\n      \"properties\": {\n        \"dtype\": \"string\",\n        \"num_unique_values\": 797,\n        \"samples\": [\n          \"Zhuji\",\n          \"Soshanguve\",\n          \"Dalian\"\n        ],\n        \"semantic_type\": \"\",\n        \"description\": \"\"\n      }\n    },\n    {\n      \"column\": \"Country\",\n      \"properties\": {\n        \"dtype\": \"category\",\n        \"num_unique_values\": 132,\n        \"samples\": [\n          \"Kuwait\",\n          \"Togo\",\n          \"South Korea\"\n        ],\n        \"semantic_type\": \"\",\n        \"description\": \"\"\n      }\n    },\n    {\n      \"column\": \"Continent\",\n      \"properties\": {\n        \"dtype\": \"category\",\n        \"num_unique_values\": 7,\n        \"samples\": [\n          \"Asia\",\n          \"South America\",\n          \"Oceana\"\n        ],\n        \"semantic_type\": \"\",\n        \"description\": \"\"\n      }\n    },\n    {\n      \"column\": \"Population (2024)\",\n      \"properties\": {\n        \"dtype\": \"number\",\n        \"std\": 3723253,\n        \"min\": 750036,\n        \"max\": 37115035,\n        \"num_unique_values\": 801,\n        \"samples\": [\n          851399,\n          904070,\n          6217487\n        ],\n        \"semantic_type\": \"\",\n        \"description\": \"\"\n      }\n    },\n    {\n      \"column\": \"Population (2023)\",\n      \"properties\": {\n        \"dtype\": \"number\",\n        \"std\": 3661200,\n        \"min\": 722836,\n        \"max\": 37194105,\n        \"num_unique_values\": 801,\n        \"samples\": [\n          826414,\n          886381,\n          6077995\n        ],\n        \"semantic_type\": \"\",\n        \"description\": \"\"\n      }\n    },\n    {\n      \"column\": \"Growth Rate\",\n      \"properties\": {\n        \"dtype\": \"number\",\n        \"std\": 0.01218011192085255,\n        \"min\": -0.0249,\n        \"max\": 0.0582,\n        \"num_unique_values\": 376,\n        \"samples\": [\n          0.0287,\n          0.0377,\n          0.0483\n        ],\n        \"semantic_type\": \"\",\n        \"description\": \"\"\n      }\n    }\n  ]\n}"
            }
          },
          "metadata": {},
          "execution_count": 6
        }
      ]
    },
    {
      "cell_type": "code",
      "source": [
        "df.describe(include = 'all')"
      ],
      "metadata": {
        "colab": {
          "base_uri": "https://localhost:8080/",
          "height": 394
        },
        "id": "kQAjVr70FAhI",
        "outputId": "71e16c7b-9a03-426d-e437-d8028b71087b"
      },
      "execution_count": 7,
      "outputs": [
        {
          "output_type": "execute_result",
          "data": {
            "text/plain": [
              "             City Country Continent  Population (2024)  Population (2023)  \\\n",
              "count         801     801       790       8.010000e+02       8.010000e+02   \n",
              "unique        797     132         7                NaN                NaN   \n",
              "top     Hyderabad   China      Asia                NaN                NaN   \n",
              "freq            2     225       500                NaN                NaN   \n",
              "mean          NaN     NaN       NaN       2.654327e+06       2.604461e+06   \n",
              "std           NaN     NaN       NaN       3.723253e+06       3.661201e+06   \n",
              "min           NaN     NaN       NaN       7.500360e+05       7.228360e+05   \n",
              "25%           NaN     NaN       NaN       9.909310e+05       9.698040e+05   \n",
              "50%           NaN     NaN       NaN       1.379368e+06       1.363510e+06   \n",
              "75%           NaN     NaN       NaN       2.570980e+06       2.514077e+06   \n",
              "max           NaN     NaN       NaN       3.711504e+07       3.719410e+07   \n",
              "\n",
              "        Growth Rate  \n",
              "count    801.000000  \n",
              "unique          NaN  \n",
              "top             NaN  \n",
              "freq            NaN  \n",
              "mean       0.020051  \n",
              "std        0.012180  \n",
              "min       -0.024900  \n",
              "25%        0.012200  \n",
              "50%        0.019700  \n",
              "75%        0.026600  \n",
              "max        0.058200  "
            ],
            "text/html": [
              "\n",
              "  <div id=\"df-daa34c16-a778-4e43-a064-1d3ba90e89ce\" class=\"colab-df-container\">\n",
              "    <div>\n",
              "<style scoped>\n",
              "    .dataframe tbody tr th:only-of-type {\n",
              "        vertical-align: middle;\n",
              "    }\n",
              "\n",
              "    .dataframe tbody tr th {\n",
              "        vertical-align: top;\n",
              "    }\n",
              "\n",
              "    .dataframe thead th {\n",
              "        text-align: right;\n",
              "    }\n",
              "</style>\n",
              "<table border=\"1\" class=\"dataframe\">\n",
              "  <thead>\n",
              "    <tr style=\"text-align: right;\">\n",
              "      <th></th>\n",
              "      <th>City</th>\n",
              "      <th>Country</th>\n",
              "      <th>Continent</th>\n",
              "      <th>Population (2024)</th>\n",
              "      <th>Population (2023)</th>\n",
              "      <th>Growth Rate</th>\n",
              "    </tr>\n",
              "  </thead>\n",
              "  <tbody>\n",
              "    <tr>\n",
              "      <th>count</th>\n",
              "      <td>801</td>\n",
              "      <td>801</td>\n",
              "      <td>790</td>\n",
              "      <td>8.010000e+02</td>\n",
              "      <td>8.010000e+02</td>\n",
              "      <td>801.000000</td>\n",
              "    </tr>\n",
              "    <tr>\n",
              "      <th>unique</th>\n",
              "      <td>797</td>\n",
              "      <td>132</td>\n",
              "      <td>7</td>\n",
              "      <td>NaN</td>\n",
              "      <td>NaN</td>\n",
              "      <td>NaN</td>\n",
              "    </tr>\n",
              "    <tr>\n",
              "      <th>top</th>\n",
              "      <td>Hyderabad</td>\n",
              "      <td>China</td>\n",
              "      <td>Asia</td>\n",
              "      <td>NaN</td>\n",
              "      <td>NaN</td>\n",
              "      <td>NaN</td>\n",
              "    </tr>\n",
              "    <tr>\n",
              "      <th>freq</th>\n",
              "      <td>2</td>\n",
              "      <td>225</td>\n",
              "      <td>500</td>\n",
              "      <td>NaN</td>\n",
              "      <td>NaN</td>\n",
              "      <td>NaN</td>\n",
              "    </tr>\n",
              "    <tr>\n",
              "      <th>mean</th>\n",
              "      <td>NaN</td>\n",
              "      <td>NaN</td>\n",
              "      <td>NaN</td>\n",
              "      <td>2.654327e+06</td>\n",
              "      <td>2.604461e+06</td>\n",
              "      <td>0.020051</td>\n",
              "    </tr>\n",
              "    <tr>\n",
              "      <th>std</th>\n",
              "      <td>NaN</td>\n",
              "      <td>NaN</td>\n",
              "      <td>NaN</td>\n",
              "      <td>3.723253e+06</td>\n",
              "      <td>3.661201e+06</td>\n",
              "      <td>0.012180</td>\n",
              "    </tr>\n",
              "    <tr>\n",
              "      <th>min</th>\n",
              "      <td>NaN</td>\n",
              "      <td>NaN</td>\n",
              "      <td>NaN</td>\n",
              "      <td>7.500360e+05</td>\n",
              "      <td>7.228360e+05</td>\n",
              "      <td>-0.024900</td>\n",
              "    </tr>\n",
              "    <tr>\n",
              "      <th>25%</th>\n",
              "      <td>NaN</td>\n",
              "      <td>NaN</td>\n",
              "      <td>NaN</td>\n",
              "      <td>9.909310e+05</td>\n",
              "      <td>9.698040e+05</td>\n",
              "      <td>0.012200</td>\n",
              "    </tr>\n",
              "    <tr>\n",
              "      <th>50%</th>\n",
              "      <td>NaN</td>\n",
              "      <td>NaN</td>\n",
              "      <td>NaN</td>\n",
              "      <td>1.379368e+06</td>\n",
              "      <td>1.363510e+06</td>\n",
              "      <td>0.019700</td>\n",
              "    </tr>\n",
              "    <tr>\n",
              "      <th>75%</th>\n",
              "      <td>NaN</td>\n",
              "      <td>NaN</td>\n",
              "      <td>NaN</td>\n",
              "      <td>2.570980e+06</td>\n",
              "      <td>2.514077e+06</td>\n",
              "      <td>0.026600</td>\n",
              "    </tr>\n",
              "    <tr>\n",
              "      <th>max</th>\n",
              "      <td>NaN</td>\n",
              "      <td>NaN</td>\n",
              "      <td>NaN</td>\n",
              "      <td>3.711504e+07</td>\n",
              "      <td>3.719410e+07</td>\n",
              "      <td>0.058200</td>\n",
              "    </tr>\n",
              "  </tbody>\n",
              "</table>\n",
              "</div>\n",
              "    <div class=\"colab-df-buttons\">\n",
              "\n",
              "  <div class=\"colab-df-container\">\n",
              "    <button class=\"colab-df-convert\" onclick=\"convertToInteractive('df-daa34c16-a778-4e43-a064-1d3ba90e89ce')\"\n",
              "            title=\"Convert this dataframe to an interactive table.\"\n",
              "            style=\"display:none;\">\n",
              "\n",
              "  <svg xmlns=\"http://www.w3.org/2000/svg\" height=\"24px\" viewBox=\"0 -960 960 960\">\n",
              "    <path d=\"M120-120v-720h720v720H120Zm60-500h600v-160H180v160Zm220 220h160v-160H400v160Zm0 220h160v-160H400v160ZM180-400h160v-160H180v160Zm440 0h160v-160H620v160ZM180-180h160v-160H180v160Zm440 0h160v-160H620v160Z\"/>\n",
              "  </svg>\n",
              "    </button>\n",
              "\n",
              "  <style>\n",
              "    .colab-df-container {\n",
              "      display:flex;\n",
              "      gap: 12px;\n",
              "    }\n",
              "\n",
              "    .colab-df-convert {\n",
              "      background-color: #E8F0FE;\n",
              "      border: none;\n",
              "      border-radius: 50%;\n",
              "      cursor: pointer;\n",
              "      display: none;\n",
              "      fill: #1967D2;\n",
              "      height: 32px;\n",
              "      padding: 0 0 0 0;\n",
              "      width: 32px;\n",
              "    }\n",
              "\n",
              "    .colab-df-convert:hover {\n",
              "      background-color: #E2EBFA;\n",
              "      box-shadow: 0px 1px 2px rgba(60, 64, 67, 0.3), 0px 1px 3px 1px rgba(60, 64, 67, 0.15);\n",
              "      fill: #174EA6;\n",
              "    }\n",
              "\n",
              "    .colab-df-buttons div {\n",
              "      margin-bottom: 4px;\n",
              "    }\n",
              "\n",
              "    [theme=dark] .colab-df-convert {\n",
              "      background-color: #3B4455;\n",
              "      fill: #D2E3FC;\n",
              "    }\n",
              "\n",
              "    [theme=dark] .colab-df-convert:hover {\n",
              "      background-color: #434B5C;\n",
              "      box-shadow: 0px 1px 3px 1px rgba(0, 0, 0, 0.15);\n",
              "      filter: drop-shadow(0px 1px 2px rgba(0, 0, 0, 0.3));\n",
              "      fill: #FFFFFF;\n",
              "    }\n",
              "  </style>\n",
              "\n",
              "    <script>\n",
              "      const buttonEl =\n",
              "        document.querySelector('#df-daa34c16-a778-4e43-a064-1d3ba90e89ce button.colab-df-convert');\n",
              "      buttonEl.style.display =\n",
              "        google.colab.kernel.accessAllowed ? 'block' : 'none';\n",
              "\n",
              "      async function convertToInteractive(key) {\n",
              "        const element = document.querySelector('#df-daa34c16-a778-4e43-a064-1d3ba90e89ce');\n",
              "        const dataTable =\n",
              "          await google.colab.kernel.invokeFunction('convertToInteractive',\n",
              "                                                    [key], {});\n",
              "        if (!dataTable) return;\n",
              "\n",
              "        const docLinkHtml = 'Like what you see? Visit the ' +\n",
              "          '<a target=\"_blank\" href=https://colab.research.google.com/notebooks/data_table.ipynb>data table notebook</a>'\n",
              "          + ' to learn more about interactive tables.';\n",
              "        element.innerHTML = '';\n",
              "        dataTable['output_type'] = 'display_data';\n",
              "        await google.colab.output.renderOutput(dataTable, element);\n",
              "        const docLink = document.createElement('div');\n",
              "        docLink.innerHTML = docLinkHtml;\n",
              "        element.appendChild(docLink);\n",
              "      }\n",
              "    </script>\n",
              "  </div>\n",
              "\n",
              "\n",
              "<div id=\"df-3da446a0-3ae2-44a6-8855-5e57f13802f6\">\n",
              "  <button class=\"colab-df-quickchart\" onclick=\"quickchart('df-3da446a0-3ae2-44a6-8855-5e57f13802f6')\"\n",
              "            title=\"Suggest charts\"\n",
              "            style=\"display:none;\">\n",
              "\n",
              "<svg xmlns=\"http://www.w3.org/2000/svg\" height=\"24px\"viewBox=\"0 0 24 24\"\n",
              "     width=\"24px\">\n",
              "    <g>\n",
              "        <path d=\"M19 3H5c-1.1 0-2 .9-2 2v14c0 1.1.9 2 2 2h14c1.1 0 2-.9 2-2V5c0-1.1-.9-2-2-2zM9 17H7v-7h2v7zm4 0h-2V7h2v10zm4 0h-2v-4h2v4z\"/>\n",
              "    </g>\n",
              "</svg>\n",
              "  </button>\n",
              "\n",
              "<style>\n",
              "  .colab-df-quickchart {\n",
              "      --bg-color: #E8F0FE;\n",
              "      --fill-color: #1967D2;\n",
              "      --hover-bg-color: #E2EBFA;\n",
              "      --hover-fill-color: #174EA6;\n",
              "      --disabled-fill-color: #AAA;\n",
              "      --disabled-bg-color: #DDD;\n",
              "  }\n",
              "\n",
              "  [theme=dark] .colab-df-quickchart {\n",
              "      --bg-color: #3B4455;\n",
              "      --fill-color: #D2E3FC;\n",
              "      --hover-bg-color: #434B5C;\n",
              "      --hover-fill-color: #FFFFFF;\n",
              "      --disabled-bg-color: #3B4455;\n",
              "      --disabled-fill-color: #666;\n",
              "  }\n",
              "\n",
              "  .colab-df-quickchart {\n",
              "    background-color: var(--bg-color);\n",
              "    border: none;\n",
              "    border-radius: 50%;\n",
              "    cursor: pointer;\n",
              "    display: none;\n",
              "    fill: var(--fill-color);\n",
              "    height: 32px;\n",
              "    padding: 0;\n",
              "    width: 32px;\n",
              "  }\n",
              "\n",
              "  .colab-df-quickchart:hover {\n",
              "    background-color: var(--hover-bg-color);\n",
              "    box-shadow: 0 1px 2px rgba(60, 64, 67, 0.3), 0 1px 3px 1px rgba(60, 64, 67, 0.15);\n",
              "    fill: var(--button-hover-fill-color);\n",
              "  }\n",
              "\n",
              "  .colab-df-quickchart-complete:disabled,\n",
              "  .colab-df-quickchart-complete:disabled:hover {\n",
              "    background-color: var(--disabled-bg-color);\n",
              "    fill: var(--disabled-fill-color);\n",
              "    box-shadow: none;\n",
              "  }\n",
              "\n",
              "  .colab-df-spinner {\n",
              "    border: 2px solid var(--fill-color);\n",
              "    border-color: transparent;\n",
              "    border-bottom-color: var(--fill-color);\n",
              "    animation:\n",
              "      spin 1s steps(1) infinite;\n",
              "  }\n",
              "\n",
              "  @keyframes spin {\n",
              "    0% {\n",
              "      border-color: transparent;\n",
              "      border-bottom-color: var(--fill-color);\n",
              "      border-left-color: var(--fill-color);\n",
              "    }\n",
              "    20% {\n",
              "      border-color: transparent;\n",
              "      border-left-color: var(--fill-color);\n",
              "      border-top-color: var(--fill-color);\n",
              "    }\n",
              "    30% {\n",
              "      border-color: transparent;\n",
              "      border-left-color: var(--fill-color);\n",
              "      border-top-color: var(--fill-color);\n",
              "      border-right-color: var(--fill-color);\n",
              "    }\n",
              "    40% {\n",
              "      border-color: transparent;\n",
              "      border-right-color: var(--fill-color);\n",
              "      border-top-color: var(--fill-color);\n",
              "    }\n",
              "    60% {\n",
              "      border-color: transparent;\n",
              "      border-right-color: var(--fill-color);\n",
              "    }\n",
              "    80% {\n",
              "      border-color: transparent;\n",
              "      border-right-color: var(--fill-color);\n",
              "      border-bottom-color: var(--fill-color);\n",
              "    }\n",
              "    90% {\n",
              "      border-color: transparent;\n",
              "      border-bottom-color: var(--fill-color);\n",
              "    }\n",
              "  }\n",
              "</style>\n",
              "\n",
              "  <script>\n",
              "    async function quickchart(key) {\n",
              "      const quickchartButtonEl =\n",
              "        document.querySelector('#' + key + ' button');\n",
              "      quickchartButtonEl.disabled = true;  // To prevent multiple clicks.\n",
              "      quickchartButtonEl.classList.add('colab-df-spinner');\n",
              "      try {\n",
              "        const charts = await google.colab.kernel.invokeFunction(\n",
              "            'suggestCharts', [key], {});\n",
              "      } catch (error) {\n",
              "        console.error('Error during call to suggestCharts:', error);\n",
              "      }\n",
              "      quickchartButtonEl.classList.remove('colab-df-spinner');\n",
              "      quickchartButtonEl.classList.add('colab-df-quickchart-complete');\n",
              "    }\n",
              "    (() => {\n",
              "      let quickchartButtonEl =\n",
              "        document.querySelector('#df-3da446a0-3ae2-44a6-8855-5e57f13802f6 button');\n",
              "      quickchartButtonEl.style.display =\n",
              "        google.colab.kernel.accessAllowed ? 'block' : 'none';\n",
              "    })();\n",
              "  </script>\n",
              "</div>\n",
              "\n",
              "    </div>\n",
              "  </div>\n"
            ],
            "application/vnd.google.colaboratory.intrinsic+json": {
              "type": "dataframe",
              "summary": "{\n  \"name\": \"df\",\n  \"rows\": 11,\n  \"fields\": [\n    {\n      \"column\": \"City\",\n      \"properties\": {\n        \"dtype\": \"category\",\n        \"num_unique_values\": 4,\n        \"samples\": [\n          797,\n          \"2\",\n          \"801\"\n        ],\n        \"semantic_type\": \"\",\n        \"description\": \"\"\n      }\n    },\n    {\n      \"column\": \"Country\",\n      \"properties\": {\n        \"dtype\": \"category\",\n        \"num_unique_values\": 4,\n        \"samples\": [\n          132,\n          \"225\",\n          \"801\"\n        ],\n        \"semantic_type\": \"\",\n        \"description\": \"\"\n      }\n    },\n    {\n      \"column\": \"Continent\",\n      \"properties\": {\n        \"dtype\": \"category\",\n        \"num_unique_values\": 4,\n        \"samples\": [\n          7,\n          \"500\",\n          \"790\"\n        ],\n        \"semantic_type\": \"\",\n        \"description\": \"\"\n      }\n    },\n    {\n      \"column\": \"Population (2024)\",\n      \"properties\": {\n        \"dtype\": \"number\",\n        \"std\": 12570366.268252246,\n        \"min\": 801.0,\n        \"max\": 37115035.0,\n        \"num_unique_values\": 8,\n        \"samples\": [\n          2654327.329588015,\n          1379368.0,\n          801.0\n        ],\n        \"semantic_type\": \"\",\n        \"description\": \"\"\n      }\n    },\n    {\n      \"column\": \"Population (2023)\",\n      \"properties\": {\n        \"dtype\": \"number\",\n        \"std\": 12607987.567642592,\n        \"min\": 801.0,\n        \"max\": 37194105.0,\n        \"num_unique_values\": 8,\n        \"samples\": [\n          2604461.22721598,\n          1363510.0,\n          801.0\n        ],\n        \"semantic_type\": \"\",\n        \"description\": \"\"\n      }\n    },\n    {\n      \"column\": \"Growth Rate\",\n      \"properties\": {\n        \"dtype\": \"number\",\n        \"std\": 283.19000224149454,\n        \"min\": -0.0249,\n        \"max\": 801.0,\n        \"num_unique_values\": 8,\n        \"samples\": [\n          0.02005131086142322,\n          0.0197,\n          801.0\n        ],\n        \"semantic_type\": \"\",\n        \"description\": \"\"\n      }\n    }\n  ]\n}"
            }
          },
          "metadata": {},
          "execution_count": 7
        }
      ]
    },
    {
      "cell_type": "code",
      "source": [
        "#Importante para visualização dos campos nulos\n",
        "df.info()"
      ],
      "metadata": {
        "colab": {
          "base_uri": "https://localhost:8080/"
        },
        "id": "TAnBr0uLFAkb",
        "outputId": "e841f3f8-512e-44e3-c13d-81efb6791675"
      },
      "execution_count": 8,
      "outputs": [
        {
          "output_type": "stream",
          "name": "stdout",
          "text": [
            "<class 'pandas.core.frame.DataFrame'>\n",
            "RangeIndex: 801 entries, 0 to 800\n",
            "Data columns (total 6 columns):\n",
            " #   Column             Non-Null Count  Dtype  \n",
            "---  ------             --------------  -----  \n",
            " 0   City               801 non-null    object \n",
            " 1   Country            801 non-null    object \n",
            " 2   Continent          790 non-null    object \n",
            " 3   Population (2024)  801 non-null    int64  \n",
            " 4   Population (2023)  801 non-null    int64  \n",
            " 5   Growth Rate        801 non-null    float64\n",
            "dtypes: float64(1), int64(2), object(3)\n",
            "memory usage: 37.7+ KB\n"
          ]
        }
      ]
    },
    {
      "cell_type": "code",
      "source": [
        "df.isnull().sum()"
      ],
      "metadata": {
        "colab": {
          "base_uri": "https://localhost:8080/"
        },
        "id": "gBlYzbgxFL9T",
        "outputId": "841c8eeb-02b4-4356-b880-b1a8f3540c96"
      },
      "execution_count": 9,
      "outputs": [
        {
          "output_type": "execute_result",
          "data": {
            "text/plain": [
              "City                  0\n",
              "Country               0\n",
              "Continent            11\n",
              "Population (2024)     0\n",
              "Population (2023)     0\n",
              "Growth Rate           0\n",
              "dtype: int64"
            ]
          },
          "metadata": {},
          "execution_count": 9
        }
      ]
    },
    {
      "cell_type": "code",
      "source": [
        "df['Continent'].unique()"
      ],
      "metadata": {
        "colab": {
          "base_uri": "https://localhost:8080/"
        },
        "id": "LLFYhNDFFL_6",
        "outputId": "092ace52-6d9f-446b-b15e-9646ee42ea02"
      },
      "execution_count": 10,
      "outputs": [
        {
          "output_type": "execute_result",
          "data": {
            "text/plain": [
              "array(['Asia', 'South America', 'Africa', 'North America', 'Europe',\n",
              "       'Oceana', nan, 'Oceania'], dtype=object)"
            ]
          },
          "metadata": {},
          "execution_count": 10
        }
      ]
    },
    {
      "cell_type": "markdown",
      "source": [
        "O campo 'Continent' é o único que possui valores nulos, nesse contexto é importante identifica-los e tratar as cidades com continentes desconhecidos. Também é observado um erro de digitação no continente 'Oceana', suas informações devem ser atribuidas à 'Oceania'."
      ],
      "metadata": {
        "id": "6aBwmd-1GmK_"
      }
    },
    {
      "cell_type": "code",
      "source": [
        "#Verificando se há cidades duplicadas no dataframe\n",
        "cidades = len(df['City'])\n",
        "cidadesDU = df['City'].nunique()\n",
        "print(cidades)\n",
        "print(cidadesDU)"
      ],
      "metadata": {
        "colab": {
          "base_uri": "https://localhost:8080/"
        },
        "id": "rZhf4yemFMCM",
        "outputId": "2669377b-a09f-4cc4-d1f5-90232c80c61b"
      },
      "execution_count": 11,
      "outputs": [
        {
          "output_type": "stream",
          "name": "stdout",
          "text": [
            "801\n",
            "797\n"
          ]
        }
      ]
    },
    {
      "cell_type": "code",
      "source": [
        "#Identificando quais cidades aparecem mais de uma vez no dataframe\n",
        "duplicacoes = df[df.duplicated(subset=['City'], keep=False)]\n",
        "print(duplicacoes['City'].value_counts())"
      ],
      "metadata": {
        "colab": {
          "base_uri": "https://localhost:8080/"
        },
        "id": "w88RU0luFUyH",
        "outputId": "bdc99573-3efe-48c5-ec0e-35883f0c6df1"
      },
      "execution_count": 12,
      "outputs": [
        {
          "output_type": "stream",
          "name": "stdout",
          "text": [
            "City\n",
            "Hyderabad    2\n",
            "Suzhou       2\n",
            "Valencia     2\n",
            "San Jose     2\n",
            "Name: count, dtype: int64\n"
          ]
        }
      ]
    },
    {
      "cell_type": "markdown",
      "source": [
        "As cidades duplicadas serão removidas para evitar possíveis erros posteriormente"
      ],
      "metadata": {
        "id": "_LtVZo2BHYic"
      }
    },
    {
      "cell_type": "markdown",
      "source": [
        "4. **ANÁLISE DA QUALIDADE DOS DADOS**"
      ],
      "metadata": {
        "id": "v3lwgz_YHxWl"
      }
    },
    {
      "cell_type": "code",
      "source": [
        "#Valores duplicados\n",
        "df1 = df.drop_duplicates(subset=['City'], keep='first')\n",
        "df1['City'].value_counts()"
      ],
      "metadata": {
        "colab": {
          "base_uri": "https://localhost:8080/"
        },
        "id": "2j4TeXtxFU0k",
        "outputId": "2be10578-365e-48e7-81ca-63fee5c855d5"
      },
      "execution_count": 13,
      "outputs": [
        {
          "output_type": "execute_result",
          "data": {
            "text/plain": [
              "City\n",
              "Tokyo               1\n",
              "Aden                1\n",
              "Diyarbakir          1\n",
              "Asmara              1\n",
              "Dezhou              1\n",
              "                   ..\n",
              "La Paz              1\n",
              "Baixada Santista    1\n",
              "West Yorkshire      1\n",
              "Can Tho             1\n",
              "Panzhihua           1\n",
              "Name: count, Length: 797, dtype: int64"
            ]
          },
          "metadata": {},
          "execution_count": 13
        }
      ]
    },
    {
      "cell_type": "code",
      "source": [
        "df1.to_csv('novo World population growth rate by cities 2024.csv', index = False)\n"
      ],
      "metadata": {
        "id": "-BPMv_xdFiyx"
      },
      "execution_count": 69,
      "outputs": []
    },
    {
      "cell_type": "code",
      "source": [
        "#Capitalização e espaços removíveis\n",
        "df1['City'] = df1['City'].str.strip().str.title()"
      ],
      "metadata": {
        "id": "orX9K0GVE0-T"
      },
      "execution_count": 33,
      "outputs": []
    },
    {
      "cell_type": "code",
      "source": [
        "#Verificando os valores únicos\n",
        "cidades = len(df1['City'])\n",
        "cidadesDU = df1['City'].nunique()\n",
        "print(cidades)\n",
        "print(cidadesDU)"
      ],
      "metadata": {
        "colab": {
          "base_uri": "https://localhost:8080/"
        },
        "id": "0auk5HZ6F8cL",
        "outputId": "65196c15-74fd-4028-fbf7-976c9607df6a"
      },
      "execution_count": 34,
      "outputs": [
        {
          "output_type": "stream",
          "name": "stdout",
          "text": [
            "797\n",
            "797\n"
          ]
        }
      ]
    },
    {
      "cell_type": "code",
      "source": [
        "#Erro de digitação\n",
        "#.loc para modificação explícita e segura\n",
        "df1.loc[df1['Continent'] == 'Oceana', 'Continent'] = 'Oceania'"
      ],
      "metadata": {
        "id": "sLrdreQJGF5B"
      },
      "execution_count": 16,
      "outputs": []
    },
    {
      "cell_type": "code",
      "source": [
        "#Valores nulos\n",
        "df1 = df1.fillna({'Continent': 'Unknown'})\n",
        "print(df1['Continent'].unique())"
      ],
      "metadata": {
        "colab": {
          "base_uri": "https://localhost:8080/"
        },
        "id": "vi--WV9cJhr8",
        "outputId": "c5dd7b7a-fcbf-4882-819d-ad05fbef7bb9"
      },
      "execution_count": 17,
      "outputs": [
        {
          "output_type": "stream",
          "name": "stdout",
          "text": [
            "['Asia' 'South America' 'Africa' 'North America' 'Europe' 'Oceania'\n",
            " 'Unknown']\n"
          ]
        }
      ]
    },
    {
      "cell_type": "markdown",
      "source": [
        "5. **ANÁLISES ESTATÍSTICAS**"
      ],
      "metadata": {
        "id": "HgIpNR5LLLkZ"
      }
    },
    {
      "cell_type": "code",
      "source": [
        "df1['Growth Rate (%)'] = df1['Growth Rate'] * 100\n",
        "df1.head()"
      ],
      "metadata": {
        "colab": {
          "base_uri": "https://localhost:8080/",
          "height": 206
        },
        "id": "Tu3sjMVURV4N",
        "outputId": "e312e593-9188-4e1d-ac08-2c29ac92bdeb"
      },
      "execution_count": 18,
      "outputs": [
        {
          "output_type": "execute_result",
          "data": {
            "text/plain": [
              "        City     Country      Continent  Population (2024)  Population (2023)  \\\n",
              "0      Tokyo       Japan           Asia           37115035           37194105   \n",
              "1      Delhi       India           Asia           33807403           32941309   \n",
              "2   Shanghai       China           Asia           29867918           29210808   \n",
              "3      Dhaka  Bangladesh           Asia           23935652           23209616   \n",
              "4  Sao Paulo      Brazil  South America           22806704           22619736   \n",
              "\n",
              "   Growth Rate  Growth Rate (%)  \n",
              "0      -0.0021            -0.21  \n",
              "1       0.0263             2.63  \n",
              "2       0.0225             2.25  \n",
              "3       0.0313             3.13  \n",
              "4       0.0083             0.83  "
            ],
            "text/html": [
              "\n",
              "  <div id=\"df-09956cba-98df-42a2-a1e6-cd7b657a65b0\" class=\"colab-df-container\">\n",
              "    <div>\n",
              "<style scoped>\n",
              "    .dataframe tbody tr th:only-of-type {\n",
              "        vertical-align: middle;\n",
              "    }\n",
              "\n",
              "    .dataframe tbody tr th {\n",
              "        vertical-align: top;\n",
              "    }\n",
              "\n",
              "    .dataframe thead th {\n",
              "        text-align: right;\n",
              "    }\n",
              "</style>\n",
              "<table border=\"1\" class=\"dataframe\">\n",
              "  <thead>\n",
              "    <tr style=\"text-align: right;\">\n",
              "      <th></th>\n",
              "      <th>City</th>\n",
              "      <th>Country</th>\n",
              "      <th>Continent</th>\n",
              "      <th>Population (2024)</th>\n",
              "      <th>Population (2023)</th>\n",
              "      <th>Growth Rate</th>\n",
              "      <th>Growth Rate (%)</th>\n",
              "    </tr>\n",
              "  </thead>\n",
              "  <tbody>\n",
              "    <tr>\n",
              "      <th>0</th>\n",
              "      <td>Tokyo</td>\n",
              "      <td>Japan</td>\n",
              "      <td>Asia</td>\n",
              "      <td>37115035</td>\n",
              "      <td>37194105</td>\n",
              "      <td>-0.0021</td>\n",
              "      <td>-0.21</td>\n",
              "    </tr>\n",
              "    <tr>\n",
              "      <th>1</th>\n",
              "      <td>Delhi</td>\n",
              "      <td>India</td>\n",
              "      <td>Asia</td>\n",
              "      <td>33807403</td>\n",
              "      <td>32941309</td>\n",
              "      <td>0.0263</td>\n",
              "      <td>2.63</td>\n",
              "    </tr>\n",
              "    <tr>\n",
              "      <th>2</th>\n",
              "      <td>Shanghai</td>\n",
              "      <td>China</td>\n",
              "      <td>Asia</td>\n",
              "      <td>29867918</td>\n",
              "      <td>29210808</td>\n",
              "      <td>0.0225</td>\n",
              "      <td>2.25</td>\n",
              "    </tr>\n",
              "    <tr>\n",
              "      <th>3</th>\n",
              "      <td>Dhaka</td>\n",
              "      <td>Bangladesh</td>\n",
              "      <td>Asia</td>\n",
              "      <td>23935652</td>\n",
              "      <td>23209616</td>\n",
              "      <td>0.0313</td>\n",
              "      <td>3.13</td>\n",
              "    </tr>\n",
              "    <tr>\n",
              "      <th>4</th>\n",
              "      <td>Sao Paulo</td>\n",
              "      <td>Brazil</td>\n",
              "      <td>South America</td>\n",
              "      <td>22806704</td>\n",
              "      <td>22619736</td>\n",
              "      <td>0.0083</td>\n",
              "      <td>0.83</td>\n",
              "    </tr>\n",
              "  </tbody>\n",
              "</table>\n",
              "</div>\n",
              "    <div class=\"colab-df-buttons\">\n",
              "\n",
              "  <div class=\"colab-df-container\">\n",
              "    <button class=\"colab-df-convert\" onclick=\"convertToInteractive('df-09956cba-98df-42a2-a1e6-cd7b657a65b0')\"\n",
              "            title=\"Convert this dataframe to an interactive table.\"\n",
              "            style=\"display:none;\">\n",
              "\n",
              "  <svg xmlns=\"http://www.w3.org/2000/svg\" height=\"24px\" viewBox=\"0 -960 960 960\">\n",
              "    <path d=\"M120-120v-720h720v720H120Zm60-500h600v-160H180v160Zm220 220h160v-160H400v160Zm0 220h160v-160H400v160ZM180-400h160v-160H180v160Zm440 0h160v-160H620v160ZM180-180h160v-160H180v160Zm440 0h160v-160H620v160Z\"/>\n",
              "  </svg>\n",
              "    </button>\n",
              "\n",
              "  <style>\n",
              "    .colab-df-container {\n",
              "      display:flex;\n",
              "      gap: 12px;\n",
              "    }\n",
              "\n",
              "    .colab-df-convert {\n",
              "      background-color: #E8F0FE;\n",
              "      border: none;\n",
              "      border-radius: 50%;\n",
              "      cursor: pointer;\n",
              "      display: none;\n",
              "      fill: #1967D2;\n",
              "      height: 32px;\n",
              "      padding: 0 0 0 0;\n",
              "      width: 32px;\n",
              "    }\n",
              "\n",
              "    .colab-df-convert:hover {\n",
              "      background-color: #E2EBFA;\n",
              "      box-shadow: 0px 1px 2px rgba(60, 64, 67, 0.3), 0px 1px 3px 1px rgba(60, 64, 67, 0.15);\n",
              "      fill: #174EA6;\n",
              "    }\n",
              "\n",
              "    .colab-df-buttons div {\n",
              "      margin-bottom: 4px;\n",
              "    }\n",
              "\n",
              "    [theme=dark] .colab-df-convert {\n",
              "      background-color: #3B4455;\n",
              "      fill: #D2E3FC;\n",
              "    }\n",
              "\n",
              "    [theme=dark] .colab-df-convert:hover {\n",
              "      background-color: #434B5C;\n",
              "      box-shadow: 0px 1px 3px 1px rgba(0, 0, 0, 0.15);\n",
              "      filter: drop-shadow(0px 1px 2px rgba(0, 0, 0, 0.3));\n",
              "      fill: #FFFFFF;\n",
              "    }\n",
              "  </style>\n",
              "\n",
              "    <script>\n",
              "      const buttonEl =\n",
              "        document.querySelector('#df-09956cba-98df-42a2-a1e6-cd7b657a65b0 button.colab-df-convert');\n",
              "      buttonEl.style.display =\n",
              "        google.colab.kernel.accessAllowed ? 'block' : 'none';\n",
              "\n",
              "      async function convertToInteractive(key) {\n",
              "        const element = document.querySelector('#df-09956cba-98df-42a2-a1e6-cd7b657a65b0');\n",
              "        const dataTable =\n",
              "          await google.colab.kernel.invokeFunction('convertToInteractive',\n",
              "                                                    [key], {});\n",
              "        if (!dataTable) return;\n",
              "\n",
              "        const docLinkHtml = 'Like what you see? Visit the ' +\n",
              "          '<a target=\"_blank\" href=https://colab.research.google.com/notebooks/data_table.ipynb>data table notebook</a>'\n",
              "          + ' to learn more about interactive tables.';\n",
              "        element.innerHTML = '';\n",
              "        dataTable['output_type'] = 'display_data';\n",
              "        await google.colab.output.renderOutput(dataTable, element);\n",
              "        const docLink = document.createElement('div');\n",
              "        docLink.innerHTML = docLinkHtml;\n",
              "        element.appendChild(docLink);\n",
              "      }\n",
              "    </script>\n",
              "  </div>\n",
              "\n",
              "\n",
              "<div id=\"df-a63fdf50-f1f7-45fa-bec2-410f8837d90a\">\n",
              "  <button class=\"colab-df-quickchart\" onclick=\"quickchart('df-a63fdf50-f1f7-45fa-bec2-410f8837d90a')\"\n",
              "            title=\"Suggest charts\"\n",
              "            style=\"display:none;\">\n",
              "\n",
              "<svg xmlns=\"http://www.w3.org/2000/svg\" height=\"24px\"viewBox=\"0 0 24 24\"\n",
              "     width=\"24px\">\n",
              "    <g>\n",
              "        <path d=\"M19 3H5c-1.1 0-2 .9-2 2v14c0 1.1.9 2 2 2h14c1.1 0 2-.9 2-2V5c0-1.1-.9-2-2-2zM9 17H7v-7h2v7zm4 0h-2V7h2v10zm4 0h-2v-4h2v4z\"/>\n",
              "    </g>\n",
              "</svg>\n",
              "  </button>\n",
              "\n",
              "<style>\n",
              "  .colab-df-quickchart {\n",
              "      --bg-color: #E8F0FE;\n",
              "      --fill-color: #1967D2;\n",
              "      --hover-bg-color: #E2EBFA;\n",
              "      --hover-fill-color: #174EA6;\n",
              "      --disabled-fill-color: #AAA;\n",
              "      --disabled-bg-color: #DDD;\n",
              "  }\n",
              "\n",
              "  [theme=dark] .colab-df-quickchart {\n",
              "      --bg-color: #3B4455;\n",
              "      --fill-color: #D2E3FC;\n",
              "      --hover-bg-color: #434B5C;\n",
              "      --hover-fill-color: #FFFFFF;\n",
              "      --disabled-bg-color: #3B4455;\n",
              "      --disabled-fill-color: #666;\n",
              "  }\n",
              "\n",
              "  .colab-df-quickchart {\n",
              "    background-color: var(--bg-color);\n",
              "    border: none;\n",
              "    border-radius: 50%;\n",
              "    cursor: pointer;\n",
              "    display: none;\n",
              "    fill: var(--fill-color);\n",
              "    height: 32px;\n",
              "    padding: 0;\n",
              "    width: 32px;\n",
              "  }\n",
              "\n",
              "  .colab-df-quickchart:hover {\n",
              "    background-color: var(--hover-bg-color);\n",
              "    box-shadow: 0 1px 2px rgba(60, 64, 67, 0.3), 0 1px 3px 1px rgba(60, 64, 67, 0.15);\n",
              "    fill: var(--button-hover-fill-color);\n",
              "  }\n",
              "\n",
              "  .colab-df-quickchart-complete:disabled,\n",
              "  .colab-df-quickchart-complete:disabled:hover {\n",
              "    background-color: var(--disabled-bg-color);\n",
              "    fill: var(--disabled-fill-color);\n",
              "    box-shadow: none;\n",
              "  }\n",
              "\n",
              "  .colab-df-spinner {\n",
              "    border: 2px solid var(--fill-color);\n",
              "    border-color: transparent;\n",
              "    border-bottom-color: var(--fill-color);\n",
              "    animation:\n",
              "      spin 1s steps(1) infinite;\n",
              "  }\n",
              "\n",
              "  @keyframes spin {\n",
              "    0% {\n",
              "      border-color: transparent;\n",
              "      border-bottom-color: var(--fill-color);\n",
              "      border-left-color: var(--fill-color);\n",
              "    }\n",
              "    20% {\n",
              "      border-color: transparent;\n",
              "      border-left-color: var(--fill-color);\n",
              "      border-top-color: var(--fill-color);\n",
              "    }\n",
              "    30% {\n",
              "      border-color: transparent;\n",
              "      border-left-color: var(--fill-color);\n",
              "      border-top-color: var(--fill-color);\n",
              "      border-right-color: var(--fill-color);\n",
              "    }\n",
              "    40% {\n",
              "      border-color: transparent;\n",
              "      border-right-color: var(--fill-color);\n",
              "      border-top-color: var(--fill-color);\n",
              "    }\n",
              "    60% {\n",
              "      border-color: transparent;\n",
              "      border-right-color: var(--fill-color);\n",
              "    }\n",
              "    80% {\n",
              "      border-color: transparent;\n",
              "      border-right-color: var(--fill-color);\n",
              "      border-bottom-color: var(--fill-color);\n",
              "    }\n",
              "    90% {\n",
              "      border-color: transparent;\n",
              "      border-bottom-color: var(--fill-color);\n",
              "    }\n",
              "  }\n",
              "</style>\n",
              "\n",
              "  <script>\n",
              "    async function quickchart(key) {\n",
              "      const quickchartButtonEl =\n",
              "        document.querySelector('#' + key + ' button');\n",
              "      quickchartButtonEl.disabled = true;  // To prevent multiple clicks.\n",
              "      quickchartButtonEl.classList.add('colab-df-spinner');\n",
              "      try {\n",
              "        const charts = await google.colab.kernel.invokeFunction(\n",
              "            'suggestCharts', [key], {});\n",
              "      } catch (error) {\n",
              "        console.error('Error during call to suggestCharts:', error);\n",
              "      }\n",
              "      quickchartButtonEl.classList.remove('colab-df-spinner');\n",
              "      quickchartButtonEl.classList.add('colab-df-quickchart-complete');\n",
              "    }\n",
              "    (() => {\n",
              "      let quickchartButtonEl =\n",
              "        document.querySelector('#df-a63fdf50-f1f7-45fa-bec2-410f8837d90a button');\n",
              "      quickchartButtonEl.style.display =\n",
              "        google.colab.kernel.accessAllowed ? 'block' : 'none';\n",
              "    })();\n",
              "  </script>\n",
              "</div>\n",
              "\n",
              "    </div>\n",
              "  </div>\n"
            ],
            "application/vnd.google.colaboratory.intrinsic+json": {
              "type": "dataframe",
              "variable_name": "df1",
              "summary": "{\n  \"name\": \"df1\",\n  \"rows\": 797,\n  \"fields\": [\n    {\n      \"column\": \"City\",\n      \"properties\": {\n        \"dtype\": \"string\",\n        \"num_unique_values\": 797,\n        \"samples\": [\n          \"Zhuji\",\n          \"Soshanguve\",\n          \"Dalian\"\n        ],\n        \"semantic_type\": \"\",\n        \"description\": \"\"\n      }\n    },\n    {\n      \"column\": \"Country\",\n      \"properties\": {\n        \"dtype\": \"category\",\n        \"num_unique_values\": 132,\n        \"samples\": [\n          \"Kuwait\",\n          \"Togo\",\n          \"South Korea\"\n        ],\n        \"semantic_type\": \"\",\n        \"description\": \"\"\n      }\n    },\n    {\n      \"column\": \"Continent\",\n      \"properties\": {\n        \"dtype\": \"category\",\n        \"num_unique_values\": 7,\n        \"samples\": [\n          \"Asia\",\n          \"South America\",\n          \"Oceania\"\n        ],\n        \"semantic_type\": \"\",\n        \"description\": \"\"\n      }\n    },\n    {\n      \"column\": \"Population (2024)\",\n      \"properties\": {\n        \"dtype\": \"number\",\n        \"std\": 3731181,\n        \"min\": 750036,\n        \"max\": 37115035,\n        \"num_unique_values\": 797,\n        \"samples\": [\n          852608,\n          905868,\n          6217487\n        ],\n        \"semantic_type\": \"\",\n        \"description\": \"\"\n      }\n    },\n    {\n      \"column\": \"Population (2023)\",\n      \"properties\": {\n        \"dtype\": \"number\",\n        \"std\": 3669024,\n        \"min\": 722836,\n        \"max\": 37194105,\n        \"num_unique_values\": 797,\n        \"samples\": [\n          834782,\n          892254,\n          6077995\n        ],\n        \"semantic_type\": \"\",\n        \"description\": \"\"\n      }\n    },\n    {\n      \"column\": \"Growth Rate\",\n      \"properties\": {\n        \"dtype\": \"number\",\n        \"std\": 0.012103568712283642,\n        \"min\": -0.0249,\n        \"max\": 0.0582,\n        \"num_unique_values\": 375,\n        \"samples\": [\n          0.0254,\n          0.0181,\n          0.0155\n        ],\n        \"semantic_type\": \"\",\n        \"description\": \"\"\n      }\n    },\n    {\n      \"column\": \"Growth Rate (%)\",\n      \"properties\": {\n        \"dtype\": \"number\",\n        \"std\": 1.2103568712283643,\n        \"min\": -2.4899999999999998,\n        \"max\": 5.82,\n        \"num_unique_values\": 375,\n        \"samples\": [\n          2.54,\n          1.81,\n          1.55\n        ],\n        \"semantic_type\": \"\",\n        \"description\": \"\"\n      }\n    }\n  ]\n}"
            }
          },
          "metadata": {},
          "execution_count": 18
        }
      ]
    },
    {
      "cell_type": "code",
      "source": [
        "#Taxa média de crescimento populacional entre os anos 2023 e 2024\n",
        "#Calculando a média da coluna Growth Rate\n",
        "media = df1['Growth Rate (%)'].mean()\n",
        "print('A média de crescimento populacional por cidades entre os anos 2023 e 2024 é {:.2f}%'.format(media))"
      ],
      "metadata": {
        "colab": {
          "base_uri": "https://localhost:8080/"
        },
        "id": "IfPXY8dNLV92",
        "outputId": "de120e04-0d46-443c-9115-422841a07889"
      },
      "execution_count": 19,
      "outputs": [
        {
          "output_type": "stream",
          "name": "stdout",
          "text": [
            "A média de crescimento populacional por cidades entre os anos 2023 e 2024 é 2.01%\n"
          ]
        }
      ]
    },
    {
      "cell_type": "code",
      "source": [
        "#Continente que apresenta a maior taxa de crescimento populacional\n",
        "#Calculo de média GR por continente\n",
        "mediaGRcontinent = df1.groupby('Continent')['Growth Rate (%)'].mean().sort_values(ascending=False)\n",
        "mediaGRcontinent = mediaGRcontinent.apply(lambda x: round(x, 2))\n",
        "\n",
        "plt.figure(figsize=(6, 4))\n",
        "plt.bar(mediaGRcontinent.index, mediaGRcontinent, color='red')\n",
        "\n",
        "plt.title('Taxa de crescimento (%) por continente')\n",
        "plt.xlabel('Continente')\n",
        "plt.ylabel('Taxa de crescimento (%)')\n",
        "\n",
        "plt.xticks(rotation=45)\n",
        "plt.show()"
      ],
      "metadata": {
        "colab": {
          "base_uri": "https://localhost:8080/",
          "height": 478
        },
        "id": "CMWonmj5REGZ",
        "outputId": "6f8af556-cd56-43aa-88a0-57d80b62f478"
      },
      "execution_count": 20,
      "outputs": [
        {
          "output_type": "display_data",
          "data": {
            "text/plain": [
              "<Figure size 600x400 with 1 Axes>"
            ],
            "image/png": "[encoded data removed]"
          },
          "metadata": {}
        }
      ]
    },
    {
      "cell_type": "markdown",
      "source": [
        "**Algumas conclusões**\n",
        "1. A África é o continente que possui a maior taxa de crescimento populacional, ou seja, é a região onde a população mais cresceu em números absolutos.\n",
        "2. A rápida mudança demográfica da África indica que suas cidades mais populosas estão passando por intensos fatores que potencializam o crescimento populacional.\n",
        "3. É nítida a diferença entre continentes que possuem países e cidades em desenvolvimento (África e Ásia) com continentes desenvolvidos (Europa)"
      ],
      "metadata": {
        "id": "cnJlOjz5UACH"
      }
    },
    {
      "cell_type": "code",
      "source": [
        "#Cidade que apresenta a maior taxa de crescimento populacional\n",
        "maxGRcontinent = df1.groupby('Continent')['Growth Rate (%)'].max().sort_values(ascending=False)\n",
        "maxGRcontinent = maxGRcontinent.apply(lambda x: round(x, 2))\n",
        "\n",
        "plt.figure(figsize=(6, 4))\n",
        "plt.bar(maxGRcontinent.index, maxGRcontinent, color='red')\n",
        "\n",
        "plt.title('Cidade com maior taxa de crescimento populacional por continente')\n",
        "plt.xlabel('Continente')\n",
        "plt.ylabel('Taxa de crescimento (%)')\n",
        "\n",
        "plt.xticks(rotation=45)\n",
        "plt.show()"
      ],
      "metadata": {
        "colab": {
          "base_uri": "https://localhost:8080/",
          "height": 478
        },
        "id": "Qca9yvm6V2tp",
        "outputId": "7813a943-4ac0-4584-ed0c-c755e1218011"
      },
      "execution_count": 21,
      "outputs": [
        {
          "output_type": "display_data",
          "data": {
            "text/plain": [
              "<Figure size 600x400 with 1 Axes>"
            ],
            "image/png": "[encoded data removed]"
          },
          "metadata": {}
        }
      ]
    },
    {
      "cell_type": "code",
      "source": [
        "maxGR = maxGRcontinent.max()\n",
        "print(maxGR)"
      ],
      "metadata": {
        "colab": {
          "base_uri": "https://localhost:8080/"
        },
        "id": "-Y4gypN7dSwf",
        "outputId": "5dfb12cc-6f16-4134-c974-f39814415d06"
      },
      "execution_count": 22,
      "outputs": [
        {
          "output_type": "stream",
          "name": "stdout",
          "text": [
            "5.82\n"
          ]
        }
      ]
    },
    {
      "cell_type": "code",
      "source": [
        "maxRATE = 5.82\n",
        "cidadeMaxRate = df1[df1['Growth Rate (%)'] == maxRATE]['City']\n",
        "print(cidadeMaxRate)"
      ],
      "metadata": {
        "colab": {
          "base_uri": "https://localhost:8080/"
        },
        "id": "Ks0osl8ZbhgH",
        "outputId": "445d8fe4-4d52-4f7e-965d-9235df8b0516"
      },
      "execution_count": 23,
      "outputs": [
        {
          "output_type": "stream",
          "name": "stdout",
          "text": [
            "451    Bujumbura\n",
            "Name: City, dtype: object\n"
          ]
        }
      ]
    },
    {
      "cell_type": "markdown",
      "source": [
        "**Conclusão**\n",
        "1. A cidade com a maior taxa de crescimento populacional entre os anos 2023 e 2024 pertence ao continente que mais cresceu no mesmo período de tempo."
      ],
      "metadata": {
        "id": "OBsz5PxMdiTq"
      }
    },
    {
      "cell_type": "code",
      "source": [
        "#as cinco cidades mais populosas (em números absolutos)\n",
        "cidades_populosas = df1.sort_values(by='Population (2024)', ascending=False).head(5)\n",
        "\n",
        "def milhoes(x, pos):\n",
        "    return '%1.0fK' % (x * 1e-3)\n",
        "\n",
        "plt.figure(figsize=(6, 4))\n",
        "ax = sns.barplot(x='City', y='Population (2024)', data=cidades_populosas, palette='viridis', hue='City', dodge=False)\n",
        "\n",
        "ax.yaxis.set_major_formatter(FuncFormatter(milhoes))\n",
        "\n",
        "plt.title('As 5 Cidades Mais Populosas em 2024')\n",
        "plt.xlabel('Cidade')\n",
        "plt.ylabel('População')\n",
        "plt.xticks(rotation=0)\n",
        "plt.show()"
      ],
      "metadata": {
        "colab": {
          "base_uri": "https://localhost:8080/",
          "height": 410
        },
        "id": "yGiOtQ5JfSBs",
        "outputId": "ef436db1-4486-4e35-f88e-bf8ebd66e8cb"
      },
      "execution_count": 24,
      "outputs": [
        {
          "output_type": "display_data",
          "data": {
            "text/plain": [
              "<Figure size 600x400 with 1 Axes>"
            ],
            "image/png": "[encoded data removed]"
          },
          "metadata": {}
        }
      ]
    },
    {
      "cell_type": "code",
      "source": [
        "infoCidades_populosas = df1[df1['City'].isin(cidades_populosas['City'])]\n",
        "infoCidades_populosas"
      ],
      "metadata": {
        "colab": {
          "base_uri": "https://localhost:8080/",
          "height": 206
        },
        "id": "aT5e9VevmL9S",
        "outputId": "26ac10c3-9b84-498e-d9dd-b85ea9b3054f"
      },
      "execution_count": 25,
      "outputs": [
        {
          "output_type": "execute_result",
          "data": {
            "text/plain": [
              "        City     Country      Continent  Population (2024)  Population (2023)  \\\n",
              "0      Tokyo       Japan           Asia           37115035           37194105   \n",
              "1      Delhi       India           Asia           33807403           32941309   \n",
              "2   Shanghai       China           Asia           29867918           29210808   \n",
              "3      Dhaka  Bangladesh           Asia           23935652           23209616   \n",
              "4  Sao Paulo      Brazil  South America           22806704           22619736   \n",
              "\n",
              "   Growth Rate  Growth Rate (%)  \n",
              "0      -0.0021            -0.21  \n",
              "1       0.0263             2.63  \n",
              "2       0.0225             2.25  \n",
              "3       0.0313             3.13  \n",
              "4       0.0083             0.83  "
            ],
            "text/html": [
              "\n",
              "  <div id=\"df-0345ec5d-792f-4074-8bf5-fea9db76c72c\" class=\"colab-df-container\">\n",
              "    <div>\n",
              "<style scoped>\n",
              "    .dataframe tbody tr th:only-of-type {\n",
              "        vertical-align: middle;\n",
              "    }\n",
              "\n",
              "    .dataframe tbody tr th {\n",
              "        vertical-align: top;\n",
              "    }\n",
              "\n",
              "    .dataframe thead th {\n",
              "        text-align: right;\n",
              "    }\n",
              "</style>\n",
              "<table border=\"1\" class=\"dataframe\">\n",
              "  <thead>\n",
              "    <tr style=\"text-align: right;\">\n",
              "      <th></th>\n",
              "      <th>City</th>\n",
              "      <th>Country</th>\n",
              "      <th>Continent</th>\n",
              "      <th>Population (2024)</th>\n",
              "      <th>Population (2023)</th>\n",
              "      <th>Growth Rate</th>\n",
              "      <th>Growth Rate (%)</th>\n",
              "    </tr>\n",
              "  </thead>\n",
              "  <tbody>\n",
              "    <tr>\n",
              "      <th>0</th>\n",
              "      <td>Tokyo</td>\n",
              "      <td>Japan</td>\n",
              "      <td>Asia</td>\n",
              "      <td>37115035</td>\n",
              "      <td>37194105</td>\n",
              "      <td>-0.0021</td>\n",
              "      <td>-0.21</td>\n",
              "    </tr>\n",
              "    <tr>\n",
              "      <th>1</th>\n",
              "      <td>Delhi</td>\n",
              "      <td>India</td>\n",
              "      <td>Asia</td>\n",
              "      <td>33807403</td>\n",
              "      <td>32941309</td>\n",
              "      <td>0.0263</td>\n",
              "      <td>2.63</td>\n",
              "    </tr>\n",
              "    <tr>\n",
              "      <th>2</th>\n",
              "      <td>Shanghai</td>\n",
              "      <td>China</td>\n",
              "      <td>Asia</td>\n",
              "      <td>29867918</td>\n",
              "      <td>29210808</td>\n",
              "      <td>0.0225</td>\n",
              "      <td>2.25</td>\n",
              "    </tr>\n",
              "    <tr>\n",
              "      <th>3</th>\n",
              "      <td>Dhaka</td>\n",
              "      <td>Bangladesh</td>\n",
              "      <td>Asia</td>\n",
              "      <td>23935652</td>\n",
              "      <td>23209616</td>\n",
              "      <td>0.0313</td>\n",
              "      <td>3.13</td>\n",
              "    </tr>\n",
              "    <tr>\n",
              "      <th>4</th>\n",
              "      <td>Sao Paulo</td>\n",
              "      <td>Brazil</td>\n",
              "      <td>South America</td>\n",
              "      <td>22806704</td>\n",
              "      <td>22619736</td>\n",
              "      <td>0.0083</td>\n",
              "      <td>0.83</td>\n",
              "    </tr>\n",
              "  </tbody>\n",
              "</table>\n",
              "</div>\n",
              "    <div class=\"colab-df-buttons\">\n",
              "\n",
              "  <div class=\"colab-df-container\">\n",
              "    <button class=\"colab-df-convert\" onclick=\"convertToInteractive('df-0345ec5d-792f-4074-8bf5-fea9db76c72c')\"\n",
              "            title=\"Convert this dataframe to an interactive table.\"\n",
              "            style=\"display:none;\">\n",
              "\n",
              "  <svg xmlns=\"http://www.w3.org/2000/svg\" height=\"24px\" viewBox=\"0 -960 960 960\">\n",
              "    <path d=\"M120-120v-720h720v720H120Zm60-500h600v-160H180v160Zm220 220h160v-160H400v160Zm0 220h160v-160H400v160ZM180-400h160v-160H180v160Zm440 0h160v-160H620v160ZM180-180h160v-160H180v160Zm440 0h160v-160H620v160Z\"/>\n",
              "  </svg>\n",
              "    </button>\n",
              "\n",
              "  <style>\n",
              "    .colab-df-container {\n",
              "      display:flex;\n",
              "      gap: 12px;\n",
              "    }\n",
              "\n",
              "    .colab-df-convert {\n",
              "      background-color: #E8F0FE;\n",
              "      border: none;\n",
              "      border-radius: 50%;\n",
              "      cursor: pointer;\n",
              "      display: none;\n",
              "      fill: #1967D2;\n",
              "      height: 32px;\n",
              "      padding: 0 0 0 0;\n",
              "      width: 32px;\n",
              "    }\n",
              "\n",
              "    .colab-df-convert:hover {\n",
              "      background-color: #E2EBFA;\n",
              "      box-shadow: 0px 1px 2px rgba(60, 64, 67, 0.3), 0px 1px 3px 1px rgba(60, 64, 67, 0.15);\n",
              "      fill: #174EA6;\n",
              "    }\n",
              "\n",
              "    .colab-df-buttons div {\n",
              "      margin-bottom: 4px;\n",
              "    }\n",
              "\n",
              "    [theme=dark] .colab-df-convert {\n",
              "      background-color: #3B4455;\n",
              "      fill: #D2E3FC;\n",
              "    }\n",
              "\n",
              "    [theme=dark] .colab-df-convert:hover {\n",
              "      background-color: #434B5C;\n",
              "      box-shadow: 0px 1px 3px 1px rgba(0, 0, 0, 0.15);\n",
              "      filter: drop-shadow(0px 1px 2px rgba(0, 0, 0, 0.3));\n",
              "      fill: #FFFFFF;\n",
              "    }\n",
              "  </style>\n",
              "\n",
              "    <script>\n",
              "      const buttonEl =\n",
              "        document.querySelector('#df-0345ec5d-792f-4074-8bf5-fea9db76c72c button.colab-df-convert');\n",
              "      buttonEl.style.display =\n",
              "        google.colab.kernel.accessAllowed ? 'block' : 'none';\n",
              "\n",
              "      async function convertToInteractive(key) {\n",
              "        const element = document.querySelector('#df-0345ec5d-792f-4074-8bf5-fea9db76c72c');\n",
              "        const dataTable =\n",
              "          await google.colab.kernel.invokeFunction('convertToInteractive',\n",
              "                                                    [key], {});\n",
              "        if (!dataTable) return;\n",
              "\n",
              "        const docLinkHtml = 'Like what you see? Visit the ' +\n",
              "          '<a target=\"_blank\" href=https://colab.research.google.com/notebooks/data_table.ipynb>data table notebook</a>'\n",
              "          + ' to learn more about interactive tables.';\n",
              "        element.innerHTML = '';\n",
              "        dataTable['output_type'] = 'display_data';\n",
              "        await google.colab.output.renderOutput(dataTable, element);\n",
              "        const docLink = document.createElement('div');\n",
              "        docLink.innerHTML = docLinkHtml;\n",
              "        element.appendChild(docLink);\n",
              "      }\n",
              "    </script>\n",
              "  </div>\n",
              "\n",
              "\n",
              "<div id=\"df-67941441-5be3-48d1-8ecf-32085b05acfe\">\n",
              "  <button class=\"colab-df-quickchart\" onclick=\"quickchart('df-67941441-5be3-48d1-8ecf-32085b05acfe')\"\n",
              "            title=\"Suggest charts\"\n",
              "            style=\"display:none;\">\n",
              "\n",
              "<svg xmlns=\"http://www.w3.org/2000/svg\" height=\"24px\"viewBox=\"0 0 24 24\"\n",
              "     width=\"24px\">\n",
              "    <g>\n",
              "        <path d=\"M19 3H5c-1.1 0-2 .9-2 2v14c0 1.1.9 2 2 2h14c1.1 0 2-.9 2-2V5c0-1.1-.9-2-2-2zM9 17H7v-7h2v7zm4 0h-2V7h2v10zm4 0h-2v-4h2v4z\"/>\n",
              "    </g>\n",
              "</svg>\n",
              "  </button>\n",
              "\n",
              "<style>\n",
              "  .colab-df-quickchart {\n",
              "      --bg-color: #E8F0FE;\n",
              "      --fill-color: #1967D2;\n",
              "      --hover-bg-color: #E2EBFA;\n",
              "      --hover-fill-color: #174EA6;\n",
              "      --disabled-fill-color: #AAA;\n",
              "      --disabled-bg-color: #DDD;\n",
              "  }\n",
              "\n",
              "  [theme=dark] .colab-df-quickchart {\n",
              "      --bg-color: #3B4455;\n",
              "      --fill-color: #D2E3FC;\n",
              "      --hover-bg-color: #434B5C;\n",
              "      --hover-fill-color: #FFFFFF;\n",
              "      --disabled-bg-color: #3B4455;\n",
              "      --disabled-fill-color: #666;\n",
              "  }\n",
              "\n",
              "  .colab-df-quickchart {\n",
              "    background-color: var(--bg-color);\n",
              "    border: none;\n",
              "    border-radius: 50%;\n",
              "    cursor: pointer;\n",
              "    display: none;\n",
              "    fill: var(--fill-color);\n",
              "    height: 32px;\n",
              "    padding: 0;\n",
              "    width: 32px;\n",
              "  }\n",
              "\n",
              "  .colab-df-quickchart:hover {\n",
              "    background-color: var(--hover-bg-color);\n",
              "    box-shadow: 0 1px 2px rgba(60, 64, 67, 0.3), 0 1px 3px 1px rgba(60, 64, 67, 0.15);\n",
              "    fill: var(--button-hover-fill-color);\n",
              "  }\n",
              "\n",
              "  .colab-df-quickchart-complete:disabled,\n",
              "  .colab-df-quickchart-complete:disabled:hover {\n",
              "    background-color: var(--disabled-bg-color);\n",
              "    fill: var(--disabled-fill-color);\n",
              "    box-shadow: none;\n",
              "  }\n",
              "\n",
              "  .colab-df-spinner {\n",
              "    border: 2px solid var(--fill-color);\n",
              "    border-color: transparent;\n",
              "    border-bottom-color: var(--fill-color);\n",
              "    animation:\n",
              "      spin 1s steps(1) infinite;\n",
              "  }\n",
              "\n",
              "  @keyframes spin {\n",
              "    0% {\n",
              "      border-color: transparent;\n",
              "      border-bottom-color: var(--fill-color);\n",
              "      border-left-color: var(--fill-color);\n",
              "    }\n",
              "    20% {\n",
              "      border-color: transparent;\n",
              "      border-left-color: var(--fill-color);\n",
              "      border-top-color: var(--fill-color);\n",
              "    }\n",
              "    30% {\n",
              "      border-color: transparent;\n",
              "      border-left-color: var(--fill-color);\n",
              "      border-top-color: var(--fill-color);\n",
              "      border-right-color: var(--fill-color);\n",
              "    }\n",
              "    40% {\n",
              "      border-color: transparent;\n",
              "      border-right-color: var(--fill-color);\n",
              "      border-top-color: var(--fill-color);\n",
              "    }\n",
              "    60% {\n",
              "      border-color: transparent;\n",
              "      border-right-color: var(--fill-color);\n",
              "    }\n",
              "    80% {\n",
              "      border-color: transparent;\n",
              "      border-right-color: var(--fill-color);\n",
              "      border-bottom-color: var(--fill-color);\n",
              "    }\n",
              "    90% {\n",
              "      border-color: transparent;\n",
              "      border-bottom-color: var(--fill-color);\n",
              "    }\n",
              "  }\n",
              "</style>\n",
              "\n",
              "  <script>\n",
              "    async function quickchart(key) {\n",
              "      const quickchartButtonEl =\n",
              "        document.querySelector('#' + key + ' button');\n",
              "      quickchartButtonEl.disabled = true;  // To prevent multiple clicks.\n",
              "      quickchartButtonEl.classList.add('colab-df-spinner');\n",
              "      try {\n",
              "        const charts = await google.colab.kernel.invokeFunction(\n",
              "            'suggestCharts', [key], {});\n",
              "      } catch (error) {\n",
              "        console.error('Error during call to suggestCharts:', error);\n",
              "      }\n",
              "      quickchartButtonEl.classList.remove('colab-df-spinner');\n",
              "      quickchartButtonEl.classList.add('colab-df-quickchart-complete');\n",
              "    }\n",
              "    (() => {\n",
              "      let quickchartButtonEl =\n",
              "        document.querySelector('#df-67941441-5be3-48d1-8ecf-32085b05acfe button');\n",
              "      quickchartButtonEl.style.display =\n",
              "        google.colab.kernel.accessAllowed ? 'block' : 'none';\n",
              "    })();\n",
              "  </script>\n",
              "</div>\n",
              "\n",
              "  <div id=\"id_827a4ef7-da78-442e-ad51-5e60e0cb1ffb\">\n",
              "    <style>\n",
              "      .colab-df-generate {\n",
              "        background-color: #E8F0FE;\n",
              "        border: none;\n",
              "        border-radius: 50%;\n",
              "        cursor: pointer;\n",
              "        display: none;\n",
              "        fill: #1967D2;\n",
              "        height: 32px;\n",
              "        padding: 0 0 0 0;\n",
              "        width: 32px;\n",
              "      }\n",
              "\n",
              "      .colab-df-generate:hover {\n",
              "        background-color: #E2EBFA;\n",
              "        box-shadow: 0px 1px 2px rgba(60, 64, 67, 0.3), 0px 1px 3px 1px rgba(60, 64, 67, 0.15);\n",
              "        fill: #174EA6;\n",
              "      }\n",
              "\n",
              "      [theme=dark] .colab-df-generate {\n",
              "        background-color: #3B4455;\n",
              "        fill: #D2E3FC;\n",
              "      }\n",
              "\n",
              "      [theme=dark] .colab-df-generate:hover {\n",
              "        background-color: #434B5C;\n",
              "        box-shadow: 0px 1px 3px 1px rgba(0, 0, 0, 0.15);\n",
              "        filter: drop-shadow(0px 1px 2px rgba(0, 0, 0, 0.3));\n",
              "        fill: #FFFFFF;\n",
              "      }\n",
              "    </style>\n",
              "    <button class=\"colab-df-generate\" onclick=\"generateWithVariable('infoCidades_populosas')\"\n",
              "            title=\"Generate code using this dataframe.\"\n",
              "            style=\"display:none;\">\n",
              "\n",
              "  <svg xmlns=\"http://www.w3.org/2000/svg\" height=\"24px\"viewBox=\"0 0 24 24\"\n",
              "       width=\"24px\">\n",
              "    <path d=\"M7,19H8.4L18.45,9,17,7.55,7,17.6ZM5,21V16.75L18.45,3.32a2,2,0,0,1,2.83,0l1.4,1.43a1.91,1.91,0,0,1,.58,1.4,1.91,1.91,0,0,1-.58,1.4L9.25,21ZM18.45,9,17,7.55Zm-12,3A5.31,5.31,0,0,0,4.9,8.1,5.31,5.31,0,0,0,1,6.5,5.31,5.31,0,0,0,4.9,4.9,5.31,5.31,0,0,0,6.5,1,5.31,5.31,0,0,0,8.1,4.9,5.31,5.31,0,0,0,12,6.5,5.46,5.46,0,0,0,6.5,12Z\"/>\n",
              "  </svg>\n",
              "    </button>\n",
              "    <script>\n",
              "      (() => {\n",
              "      const buttonEl =\n",
              "        document.querySelector('#id_827a4ef7-da78-442e-ad51-5e60e0cb1ffb button.colab-df-generate');\n",
              "      buttonEl.style.display =\n",
              "        google.colab.kernel.accessAllowed ? 'block' : 'none';\n",
              "\n",
              "      buttonEl.onclick = () => {\n",
              "        google.colab.notebook.generateWithVariable('infoCidades_populosas');\n",
              "      }\n",
              "      })();\n",
              "    </script>\n",
              "  </div>\n",
              "\n",
              "    </div>\n",
              "  </div>\n"
            ],
            "application/vnd.google.colaboratory.intrinsic+json": {
              "type": "dataframe",
              "variable_name": "infoCidades_populosas",
              "summary": "{\n  \"name\": \"infoCidades_populosas\",\n  \"rows\": 5,\n  \"fields\": [\n    {\n      \"column\": \"City\",\n      \"properties\": {\n        \"dtype\": \"string\",\n        \"num_unique_values\": 5,\n        \"samples\": [\n          \"Delhi\",\n          \"Sao Paulo\",\n          \"Shanghai\"\n        ],\n        \"semantic_type\": \"\",\n        \"description\": \"\"\n      }\n    },\n    {\n      \"column\": \"Country\",\n      \"properties\": {\n        \"dtype\": \"string\",\n        \"num_unique_values\": 5,\n        \"samples\": [\n          \"India\",\n          \"Brazil\",\n          \"China\"\n        ],\n        \"semantic_type\": \"\",\n        \"description\": \"\"\n      }\n    },\n    {\n      \"column\": \"Continent\",\n      \"properties\": {\n        \"dtype\": \"category\",\n        \"num_unique_values\": 2,\n        \"samples\": [\n          \"South America\",\n          \"Asia\"\n        ],\n        \"semantic_type\": \"\",\n        \"description\": \"\"\n      }\n    },\n    {\n      \"column\": \"Population (2024)\",\n      \"properties\": {\n        \"dtype\": \"number\",\n        \"std\": 6173325,\n        \"min\": 22806704,\n        \"max\": 37115035,\n        \"num_unique_values\": 5,\n        \"samples\": [\n          33807403,\n          22806704\n        ],\n        \"semantic_type\": \"\",\n        \"description\": \"\"\n      }\n    },\n    {\n      \"column\": \"Population (2023)\",\n      \"properties\": {\n        \"dtype\": \"number\",\n        \"std\": 6264021,\n        \"min\": 22619736,\n        \"max\": 37194105,\n        \"num_unique_values\": 5,\n        \"samples\": [\n          32941309,\n          22619736\n        ],\n        \"semantic_type\": \"\",\n        \"description\": \"\"\n      }\n    },\n    {\n      \"column\": \"Growth Rate\",\n      \"properties\": {\n        \"dtype\": \"number\",\n        \"std\": 0.013796666263992908,\n        \"min\": -0.0021,\n        \"max\": 0.0313,\n        \"num_unique_values\": 5,\n        \"samples\": [\n          0.0263,\n          0.0083\n        ],\n        \"semantic_type\": \"\",\n        \"description\": \"\"\n      }\n    },\n    {\n      \"column\": \"Growth Rate (%)\",\n      \"properties\": {\n        \"dtype\": \"number\",\n        \"std\": 1.3796666263992907,\n        \"min\": -0.21,\n        \"max\": 3.1300000000000003,\n        \"num_unique_values\": 5,\n        \"samples\": [\n          2.63,\n          0.83\n        ],\n        \"semantic_type\": \"\",\n        \"description\": \"\"\n      }\n    }\n  ]\n}"
            }
          },
          "metadata": {},
          "execution_count": 25
        }
      ]
    },
    {
      "cell_type": "markdown",
      "source": [
        "**Algumas conclusões**\n",
        "1. Das cinco cidades mais populosas do mundo em 2024, apenas Tóquio está em declínio populacional.\n",
        "2. Quatro cidades pertencem a Ásia (segundo continente que mais cresceu entre 2023 e 2024)."
      ],
      "metadata": {
        "id": "B4AlgTzonzNQ"
      }
    },
    {
      "cell_type": "code",
      "source": [
        "#Cidades em declínio populacional\n",
        "declinio_populacional = df1[df1['Growth Rate (%)'] < 0]\n",
        "cidadesDP = declinio_populacional['City'].value_counts()\n",
        "continentesDP = declinio_populacional['Continent'].value_counts()\n",
        "print(cidadesDP)\n",
        "print(continentesDP)"
      ],
      "metadata": {
        "colab": {
          "base_uri": "https://localhost:8080/"
        },
        "id": "S2ie4OxOolAt",
        "outputId": "83d36093-72e4-48dc-fee0-8d7f391b5b4d"
      },
      "execution_count": 27,
      "outputs": [
        {
          "output_type": "stream",
          "name": "stdout",
          "text": [
            "City\n",
            "Tokyo                     1\n",
            "Osaka                     1\n",
            "Bucheon                   1\n",
            "Saratov                   1\n",
            "Indianapolis (balance)    1\n",
            "Donetsk                   1\n",
            "Dnipro                    1\n",
            "Volgograd                 1\n",
            "Odesa                     1\n",
            "Samara                    1\n",
            "Omsk                      1\n",
            "Nizhniy Novgorod          1\n",
            "Sofia                     1\n",
            "Dallas                    1\n",
            "San Diego                 1\n",
            "Kharkiv                   1\n",
            "Philadelphia              1\n",
            "Bucharest                 1\n",
            "Hamburg                   1\n",
            "Hiroshima                 1\n",
            "Daegu                     1\n",
            "Sendai                    1\n",
            "Beirut                    1\n",
            "San Juan                  1\n",
            "Chicago                   1\n",
            "Sapporo                   1\n",
            "Shizuoka                  1\n",
            "Los Angeles               1\n",
            "Fukuoka                   1\n",
            "New York                  1\n",
            "Nagoya                    1\n",
            "Niigata                   1\n",
            "Name: count, dtype: int64\n",
            "Continent\n",
            "Asia             17\n",
            "North America     8\n",
            "Europe            7\n",
            "Name: count, dtype: int64\n"
          ]
        }
      ]
    },
    {
      "cell_type": "code",
      "source": [
        "plt.figure(figsize=(6, 4))\n",
        "plt.pie(continentesDP, labels=continentesDP.index, autopct='%1.1f%%', colors=plt.cm.Paired(range(len(continentesDP))))\n",
        "plt.title('Distribuição das cidades em declínio populacional por continente')\n",
        "plt.show()"
      ],
      "metadata": {
        "colab": {
          "base_uri": "https://localhost:8080/",
          "height": 367
        },
        "id": "jUD2UOyA-rLu",
        "outputId": "a82f0633-c20d-47e8-9943-8d1866696ad9"
      },
      "execution_count": 30,
      "outputs": [
        {
          "output_type": "display_data",
          "data": {
            "text/plain": [
              "<Figure size 600x400 with 1 Axes>"
            ],
            "image/png": "[encoded data removed]"
          },
          "metadata": {}
        }
      ]
    },
    {
      "cell_type": "markdown",
      "source": [
        "**Algumas conclusões**\n",
        "1. Das 797 cidades mais populosas do mundo, 32 estão em declínio populacional, ou seja, apresentam um Growth Rate negativo e tiveram queda no número absoluto da população entre os anos de 2023 e 2024.\n",
        "2. Mais da metade das cidades em declínio populacional pertencem a Ásia (17 cidades).\n",
        "3. América do norte e Europa apresentam percentual semelhante (respectivamente 8 e 7 cidades)."
      ],
      "metadata": {
        "id": "qAPXmBjBAs92"
      }
    },
    {
      "cell_type": "code",
      "source": [
        "#15 cidades com a maior taxa de declínio por continentes\n",
        "qtaxas_negativas = declinio_populacional[declinio_populacional['Growth Rate (%)'] < 0]\n",
        "qtaxas_negativas_sort = qtaxas_negativas.sort_values(by='Growth Rate (%)')\n",
        "qtaxas_negativas_s = qtaxas_negativas_sort.head(15)\n",
        "print(qtaxas_negativas_s)\n",
        "continenteTN = qtaxas_negativas_s['Continent'].value_counts()\n",
        "print('______________________________________________________')\n",
        "continenteTN"
      ],
      "metadata": {
        "colab": {
          "base_uri": "https://localhost:8080/"
        },
        "id": "tSPZJpXJHs4D",
        "outputId": "1380cf19-c378-4671-ff66-abb44a666773"
      },
      "execution_count": 62,
      "outputs": [
        {
          "output_type": "stream",
          "name": "stdout",
          "text": [
            "                       City        Country      Continent  Population (2024)  \\\n",
            "48                 New York  United States  North America            7931147   \n",
            "199                 Chicago  United States  North America            2590002   \n",
            "355            Philadelphia  United States  North America            1533916   \n",
            "129             Los Angeles  United States  North America            3748640   \n",
            "215                  Beirut        Lebanon           Asia            2402485   \n",
            "679                 Donetsk        Ukraine         Europe             882209   \n",
            "640                  Dnipro        Ukraine         Europe             936766   \n",
            "299               Bucharest        Romania         Europe            1767520   \n",
            "683  Indianapolis (balance)  United States  North America             874089   \n",
            "747                 Niigata          Japan           Asia             795916   \n",
            "9                     Osaka          Japan           Asia           18967459   \n",
            "252               Hiroshima          Japan           Asia            2062884   \n",
            "77                  Fukuoka          Japan           Asia            5478076   \n",
            "0                     Tokyo          Japan           Asia           37115035   \n",
            "407               San Diego  United States  North America            1375452   \n",
            "\n",
            "     Population (2023)  Growth Rate  Growth Rate (%)  \n",
            "48             8133522      -0.0249            -2.49  \n",
            "199            2627520      -0.0143            -1.43  \n",
            "355            1550587      -0.0107            -1.07  \n",
            "129            3785439      -0.0097            -0.97  \n",
            "215            2421354      -0.0078            -0.78  \n",
            "679             887716      -0.0062            -0.62  \n",
            "640             941586      -0.0051            -0.51  \n",
            "299            1776385      -0.0050            -0.50  \n",
            "683             877355      -0.0037            -0.37  \n",
            "747             797865      -0.0024            -0.24  \n",
            "9             19013434      -0.0024            -0.24  \n",
            "252            2067591      -0.0023            -0.23  \n",
            "77             5490271      -0.0022            -0.22  \n",
            "0             37194105      -0.0021            -0.21  \n",
            "407            1378307      -0.0021            -0.21  \n",
            "______________________________________________________\n"
          ]
        },
        {
          "output_type": "execute_result",
          "data": {
            "text/plain": [
              "Continent\n",
              "North America    6\n",
              "Asia             6\n",
              "Europe           3\n",
              "Name: count, dtype: int64"
            ]
          },
          "metadata": {},
          "execution_count": 62
        }
      ]
    },
    {
      "cell_type": "code",
      "source": [
        "plt.figure(figsize=(6, 4))\n",
        "plt.pie(continenteTN, labels=continenteTN.index, autopct='%1.1f%%', colors=plt.cm.Paired(range(len(continenteTN))))\n",
        "plt.title('Distribuição das 15 cidades com maiores taxas de declínio por continente')\n",
        "plt.show()"
      ],
      "metadata": {
        "colab": {
          "base_uri": "https://localhost:8080/",
          "height": 367
        },
        "id": "1JGgOwO1Qwqz",
        "outputId": "530119ae-03b8-4612-9e41-3befaf617200"
      },
      "execution_count": 63,
      "outputs": [
        {
          "output_type": "display_data",
          "data": {
            "text/plain": [
              "<Figure size 600x400 with 1 Axes>"
            ],
            "image/png": "[encoded data removed]"
          },
          "metadata": {}
        }
      ]
    },
    {
      "cell_type": "markdown",
      "source": [
        "**Conclusão**\n",
        "1. Das 15 maiores taxas de declínio, 80% estão na Europa e Ásia."
      ],
      "metadata": {
        "id": "e53EL_s-RI3o"
      }
    },
    {
      "cell_type": "code",
      "source": [
        "#Comparativo\n",
        "totalCidades_aumento_populacional = df1[df1['Growth Rate (%)'] > 0]\n",
        "continentesTCAP = totalCidades_aumento_populacional['Continent'].value_counts()\n",
        "\n",
        "#cidades com taxa superior a 2.5%\n",
        "aumento_populacional = df1[df1['Growth Rate (%)'] > 2.5]\n",
        "continentesAP = aumento_populacional['Continent'].value_counts()\n",
        "print(continentesTCAP)\n",
        "print(continentesAP)"
      ],
      "metadata": {
        "colab": {
          "base_uri": "https://localhost:8080/"
        },
        "id": "QGxwdkn-Cbn5",
        "outputId": "56890f7c-50b9-4894-e52c-767ea8e55c08"
      },
      "execution_count": 40,
      "outputs": [
        {
          "output_type": "stream",
          "name": "stdout",
          "text": [
            "Continent\n",
            "Asia             481\n",
            "Africa           106\n",
            "South America     62\n",
            "North America     54\n",
            "Europe            43\n",
            "Unknown           11\n",
            "Oceania            6\n",
            "Name: count, dtype: int64\n",
            "Continent\n",
            "Asia             158\n",
            "Africa            81\n",
            "Unknown            4\n",
            "North America      3\n",
            "Name: count, dtype: int64\n"
          ]
        }
      ]
    },
    {
      "cell_type": "code",
      "source": [
        "plt.figure(figsize=(6, 4))\n",
        "plt.pie(continentesTCAP, labels=continentesTCAP.index, autopct='%1.1f%%', colors=plt.cm.Paired(range(len(continentesTCAP))))\n",
        "plt.title('Cidades em aumento populacional (GR > 0%) por continente')\n",
        "plt.show()\n",
        "\n",
        "plt.figure(figsize=(6, 4))\n",
        "plt.pie(continentesAP, labels=continentesAP.index, autopct='%1.1f%%', colors=plt.cm.Paired(range(len(continentesAP))))\n",
        "plt.title('Distribuição das cidades com taxa de aumento populacional superior a 2.5%')\n",
        "plt.show()"
      ],
      "metadata": {
        "colab": {
          "base_uri": "https://localhost:8080/",
          "height": 717
        },
        "id": "WerIA8ftG9Ay",
        "outputId": "e09c68cc-cd48-4489-a76a-091d12d71cc7"
      },
      "execution_count": 64,
      "outputs": [
        {
          "output_type": "display_data",
          "data": {
            "text/plain": [
              "<Figure size 600x400 with 1 Axes>"
            ],
            "image/png": "[encoded data removed]"
          },
          "metadata": {}
        },
        {
          "output_type": "display_data",
          "data": {
            "text/plain": [
              "<Figure size 600x400 with 1 Axes>"
            ],
            "image/png": "[encoded data removed]"
          },
          "metadata": {}
        }
      ]
    },
    {
      "cell_type": "markdown",
      "source": [
        "**Algumas conclusões**\n",
        "1. Das cidades em aumento populacional, 63% estão no continente asiático.\n",
        "2. Das cidades que possuem uma taxa de aumento populacional superior a 2,5%, 64,2% estão na Ásia. Contudo, é possível observar uma dualidade no continente, já que as cidades asiáticas também são maioria entre as que estão em declínio populacional.\n",
        "3. A África possui um percentual expressivo de cidades com taxa de aumento populacional superior a 2,5%."
      ],
      "metadata": {
        "id": "RyAWSqO6RWM3"
      }
    },
    {
      "cell_type": "code",
      "source": [
        "#Países que possuem as cidades mais populosas do mundo\n",
        "cidades_populosas_por_pais = df1['Country'].value_counts()\n",
        "cidades_populosas_por_pais\n",
        "ccidades_populosas_por_pais = cidades_populosas_por_pais.head(10)\n",
        "\n",
        "plt.figure(figsize=(6, 4))\n",
        "plt.plot(ccidades_populosas_por_pais.index, ccidades_populosas_por_pais.values, marker='o', linestyle='-', color='red')\n",
        "plt.title('Distribuição dos 10 países com mais cidades populosas')\n",
        "plt.xlabel('País')\n",
        "plt.ylabel('Cidades')\n",
        "plt.xticks(rotation=45)\n",
        "plt.grid(True)\n",
        "plt.show()"
      ],
      "metadata": {
        "colab": {
          "base_uri": "https://localhost:8080/",
          "height": 473
        },
        "id": "lHbqAUc8UPX4",
        "outputId": "70ed39c6-83fc-4a77-8a2b-43819f4365cd"
      },
      "execution_count": 68,
      "outputs": [
        {
          "output_type": "display_data",
          "data": {
            "text/plain": [
              "<Figure size 600x400 with 1 Axes>"
            ],
            "image/png": "[encoded data removed]"
          },
          "metadata": {}
        }
      ]
    },
    {
      "cell_type": "markdown",
      "source": [
        "**Algumas conclusões**\n",
        "1. Dentre as cidades mais populosas do mundo, 224 estão na china.\n",
        "2. A Índia possui 84 cidades, 140 a menos do que a China, indicando uma tendência de crescimento populacional mais abrangente no território chinês."
      ],
      "metadata": {
        "id": "f191EndVVUay"
      }
    },
    {
      "cell_type": "markdown",
      "source": [
        "\n",
        "---\n",
        "# FONTES\n",
        "Documentação das bibliotecas:\n",
        "1. Numpy\n",
        "2. Pandas\n",
        "3. Matplotlib\n",
        "4. Seaborn\n",
        "\n",
        "---\n",
        "\n",
        "Dataset kaggle: https://www.kaggle.com/datasets/dataanalyst001/world-population-growth-rate-by-cities-2024?resource=download\n",
        "\n"
      ],
      "metadata": {
        "id": "-2D5FodwW8lg"
      }
    }
  ]
}